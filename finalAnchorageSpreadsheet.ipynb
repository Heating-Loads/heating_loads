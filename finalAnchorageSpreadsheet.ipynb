{
 "cells": [
  {
   "cell_type": "code",
   "execution_count": 1,
   "id": "0ae0353e",
   "metadata": {},
   "outputs": [
    {
     "data": {
      "text/html": [
       "<p>To authorize access needed by Earth Engine, open the following\n",
       "        URL in a web browser and follow the instructions:</p>\n",
       "        <p><a href=https://code.earthengine.google.com/client-auth?scopes=https%3A//www.googleapis.com/auth/earthengine%20https%3A//www.googleapis.com/auth/devstorage.full_control&request_id=0J0SrrHZBxCZsORfsJ1b0M3fYWYQ2tbWbRxVia0JBGA&tc=ef2w-j4fVlNGd0NXZqQdVPY8rrRKNAMIYcZ8UFHBv6k&cc=LUfY1zV_CA_ws6Ib8q2-IjcV0huErEk7soIu-znx_MA>https://code.earthengine.google.com/client-auth?scopes=https%3A//www.googleapis.com/auth/earthengine%20https%3A//www.googleapis.com/auth/devstorage.full_control&request_id=0J0SrrHZBxCZsORfsJ1b0M3fYWYQ2tbWbRxVia0JBGA&tc=ef2w-j4fVlNGd0NXZqQdVPY8rrRKNAMIYcZ8UFHBv6k&cc=LUfY1zV_CA_ws6Ib8q2-IjcV0huErEk7soIu-znx_MA</a></p>\n",
       "        <p>The authorization workflow will generate a code, which you should paste in the box below.</p>\n",
       "        "
      ],
      "text/plain": [
       "<IPython.core.display.HTML object>"
      ]
     },
     "metadata": {},
     "output_type": "display_data"
    },
    {
     "name": "stdout",
     "output_type": "stream",
     "text": [
      "Enter verification code: 4/1AdQt8qhimkrD0B1lgCK-UQyKJGDZ9dzaY3rkWYFbfdWB6B4djryN9eIr0ys\n",
      "\n",
      "Successfully saved authorization token.\n"
     ]
    }
   ],
   "source": [
    "# start google earth engine\n",
    "import ee\n",
    "ee.Authenticate()\n",
    "ee.Initialize()"
   ]
  },
  {
   "cell_type": "markdown",
   "id": "ac78e86e",
   "metadata": {},
   "source": [
    "# Geometries"
   ]
  },
  {
   "cell_type": "code",
   "execution_count": 240,
   "id": "408c8a1a",
   "metadata": {},
   "outputs": [],
   "source": [
    "#Anchorage Bounds\n",
    "geometry_bounds = ee.FeatureCollection(\n",
    "    'projects/earthengine-legacy/assets/projects/sat-io/open-datasets/geoboundaries/HPSCGS-ADM2'\n",
    ").filter(\n",
    "    ee.Filter.eq('shapeName', 'Anchorage Municipality' )\n",
    ")\n",
    "\n",
    "# geometry_bounds = ee.Geometry.Polygon(\n",
    "#         [[[-149.63471833692705, 61.37637997036421],\n",
    "#           [-149.63467005716478, 61.37604845864766],\n",
    "#           [-149.6341497086159, 61.37608186696437],\n",
    "#           [-149.63434282766497, 61.37637226082931]]])\n",
    "\n",
    "# var geometry = /* color: #d63000 */ee.Geometry.Polygon(\n",
    "#         [[[172.4398642141001, 54.86458910133146],\n",
    "#           [170.5062704641001, 50.72323561655372],\n",
    "#           [-174.37654203589992, 49.767776804959325],\n",
    "#           [-153.72224516089992, 55.11670678008646],\n",
    "#           [-150.38240141089992, 58.206023230143174],\n",
    "#           [-161.10505766089992, 58.206023230143174],\n",
    "#           [-170.24568266089992, 58.02031323063899],\n",
    "#           [-173.76130766089992, 54.4067763412549]]]),\n",
    "#     geometry2 = /* color: #98ff00 */ee.Geometry.Polygon(\n",
    "#         [[[-175.07966703589992, 61.38671890892917],\n",
    "#           [-169.71833891089992, 57.267751873745894],\n",
    "#           [-148.97615141089992, 57.73993024027015]]]);\n",
    "\n",
    "#  Import building features from OSM data and map the area getting function over the FeatureCollection.\n",
    "building_outlines = ee.FeatureCollection('users/edtrochim/OSM_building_AK')"
   ]
  },
  {
   "cell_type": "markdown",
   "id": "b2140d88",
   "metadata": {},
   "source": [
    "# Calculate Annual Degree Days \n",
    "- degree_days_30y_norm_regression (feature collection)\n",
    "- degree_days_30y_norm (feature collection)\n",
    "- degree_days_10y_norm (feature collection)"
   ]
  },
  {
   "cell_type": "code",
   "execution_count": 241,
   "id": "e24b02c1",
   "metadata": {},
   "outputs": [],
   "source": [
    "# Import daily temperature dataset\n",
    "era5 = ee.ImageCollection('ECMWF/ERA5/DAILY')\n",
    "\n",
    "# Add inital and end dates for the required period\n",
    "iniDate = ee.Date('1981-01-01')\n",
    "endDate = ee.Date('2020-12-31') "
   ]
  },
  {
   "cell_type": "code",
   "execution_count": 242,
   "id": "0f85a809",
   "metadata": {},
   "outputs": [],
   "source": [
    "# Select the temperature of air at 2m (temperature_2m) and restrict data to Alaska\n",
    "land_surface_temperature = era5.filterDate(iniDate, endDate).select('mean_2m_air_temperature').filter(\n",
    "     #ee.Filter.bounds(geometry_bounds.geometry())\n",
    "    ee.Filter.bounds(geometry_bounds)\n",
    " )"
   ]
  },
  {
   "cell_type": "code",
   "execution_count": 243,
   "id": "cfaf89a5",
   "metadata": {},
   "outputs": [],
   "source": [
    "# Convert from K to C and add Freezing Days (FD) and Thawing Days (TD)                                 \n",
    "def convert_replace(image):\n",
    "    props = image.toDictionary(image.propertyNames())\n",
    "    image_C = image.subtract(273.15)\n",
    "    FD = image_C.where(image_C.gt(0), 0).rename('FD')\n",
    "    TD = image_C.where(image_C.lt(0), 0).rename('TD')\n",
    "\n",
    "    return ee.Image(image_C.addBands([FD, TD]).rename('temperature_2m', 'FD', 'TD').setMulti(props))\n",
    "\n",
    "\n",
    "daily_temp_celsius = land_surface_temperature.map(convert_replace)"
   ]
  },
  {
   "cell_type": "code",
   "execution_count": 244,
   "id": "d86ea3f1",
   "metadata": {},
   "outputs": [],
   "source": [
    "# Create list of years\n",
    "years = daily_temp_celsius.aggregate_array('year').distinct()\n",
    "\n",
    "def map_to_sequence_years(year):\n",
    "    return daily_temp_celsius.filter(ee.Filter.eq('year', year)).reduce(ee.Reducer.sum()).set('year', year)\n",
    "    \n",
    "# Sum annual degree days\n",
    "degree_days_annual =  ee.ImageCollection.fromImages(\n",
    "    # Map function to sequence of years\n",
    "    years.map(map_to_sequence_years)\n",
    ")\n"
   ]
  },
  {
   "cell_type": "code",
   "execution_count": 245,
   "id": "832e5ee2",
   "metadata": {},
   "outputs": [],
   "source": [
    "# Create 30 year norm of temperature, freezing and thawing days\n",
    "degree_days_30y_norm_regression = degree_days_annual.filter(ee.Filter.And(\n",
    "    ee.Filter.gte('year',1981),ee.Filter.lte('year',1981+29))\n",
    "    )\\\n",
    "    .select(['FD_sum','TD_sum'])\\\n",
    "    .reduce(ee.Reducer.mean()).reduceRegions(\n",
    "        collection=building_outlines,\n",
    "        reducer=ee.Reducer.mean(),\n",
    "        scale=50,\n",
    ")"
   ]
  },
  {
   "cell_type": "code",
   "execution_count": 246,
   "id": "3ee086da",
   "metadata": {},
   "outputs": [],
   "source": [
    "task = ee.batch.Export.table.toDrive(degree_days_30y_norm_regression, folder='GEE_Output', description='Anchorage_Data_group1', fileFormat='CSV')\n"
   ]
  },
  {
   "cell_type": "code",
   "execution_count": 247,
   "id": "db4d1a77",
   "metadata": {},
   "outputs": [],
   "source": [
    "task.start()"
   ]
  },
  {
   "cell_type": "code",
   "execution_count": 252,
   "id": "7cec471b",
   "metadata": {},
   "outputs": [
    {
     "data": {
      "text/plain": [
       "{'state': 'FAILED',\n",
       " 'description': 'Anchorage_Data_group1',\n",
       " 'creation_timestamp_ms': 1660063293505,\n",
       " 'update_timestamp_ms': 1660063618149,\n",
       " 'start_timestamp_ms': 1660063301227,\n",
       " 'task_type': 'EXPORT_FEATURES',\n",
       " 'attempt': 1,\n",
       " 'error_message': 'User memory limit exceeded.',\n",
       " 'id': 'XSI5MM5CFTLCNYTEDS6EO3OC',\n",
       " 'name': 'projects/earthengine-legacy/operations/XSI5MM5CFTLCNYTEDS6EO3OC'}"
      ]
     },
     "execution_count": 252,
     "metadata": {},
     "output_type": "execute_result"
    }
   ],
   "source": [
    "task.status()"
   ]
  },
  {
   "cell_type": "code",
   "execution_count": 209,
   "id": "6e97da58",
   "metadata": {},
   "outputs": [],
   "source": [
    "# Create modern 10 year norm of temperature, freezing and thawing days\n",
    "degree_days_10y_norm = degree_days_annual.filter(ee.Filter.And(\n",
    "    ee.Filter.gte('year',2011),ee.Filter.lte('year',2011+9))\n",
    "    )\\\n",
    "    .select(['FD_sum','TD_sum'])\\\n",
    "    .reduce(ee.Reducer.mean()).reduceRegions(\n",
    "        collection=building_outlines,\n",
    "        reducer=ee.Reducer.mean(),\n",
    "        scale=50,\n",
    ")"
   ]
  },
  {
   "cell_type": "code",
   "execution_count": 210,
   "id": "dccfef3d",
   "metadata": {},
   "outputs": [],
   "source": [
    "# Create modern 30 year norm of temperature, freezing and thawing days\n",
    "degree_days_30y_norm = degree_days_annual.filter(ee.Filter.And(\n",
    "    ee.Filter.gte('year',1991),ee.Filter.lte('year',1991+29))\n",
    "    )\\\n",
    "    .select(['FD_sum','TD_sum'])\\\n",
    "    .reduce(ee.Reducer.mean()).reduceRegions(\n",
    "        collection=building_outlines,\n",
    "        reducer=ee.Reducer.mean(),\n",
    "        scale=50,\n",
    ")"
   ]
  },
  {
   "cell_type": "markdown",
   "id": "a043349d",
   "metadata": {},
   "source": [
    "# Building Area --> building_outlines (feature collection), building_area (feature collection)"
   ]
  },
  {
   "cell_type": "code",
   "execution_count": 211,
   "id": "66922d4f",
   "metadata": {},
   "outputs": [],
   "source": [
    "#  This function computes a feature's geometry area and adds it as a property.\n",
    "def addArea(feature):\n",
    "    return feature.set({'areasq_ft': feature.geometry().area().multiply(10.7639)})\n",
    "\n",
    "building_area = building_outlines.map(addArea).select(['areasq_ft']).filter(\n",
    "    #ee.Filter.bounds(geometry_bounds.geometry())\n",
    "    ee.Filter.bounds(geometry_bounds)\n",
    ")\n"
   ]
  },
  {
   "cell_type": "markdown",
   "id": "f3a253ae",
   "metadata": {},
   "source": [
    "# Building Age --> building_age (feature collection)"
   ]
  },
  {
   "cell_type": "code",
   "execution_count": 212,
   "id": "922bbabb",
   "metadata": {},
   "outputs": [],
   "source": [
    "# Import world settlements footprints data - for year of built\n",
    "wsf = ee.ImageCollection(\"projects/sat-io/open-datasets/WSF/WSF_EVO\").select('b1').filter(\n",
    "    #ee.Filter.bounds(geometry_bounds.geometry())\n",
    "    ee.Filter.bounds(geometry_bounds)\n",
    ")\n",
    "\n",
    "building_age = wsf.reduce(ee.Reducer.min()).reduceRegions(\n",
    "        collection=building_outlines,\n",
    "        reducer=ee.Reducer.mean(),\n",
    "        scale=10,\n",
    ")\n"
   ]
  },
  {
   "cell_type": "code",
   "execution_count": 214,
   "id": "e0044f9e",
   "metadata": {},
   "outputs": [
    {
     "ename": "AttributeError",
     "evalue": "'Feature' object has no attribute 'reduceRegions'",
     "output_type": "error",
     "traceback": [
      "\u001b[0;31m---------------------------------------------------------------------------\u001b[0m",
      "\u001b[0;31mAttributeError\u001b[0m                            Traceback (most recent call last)",
      "Input \u001b[0;32mIn [214]\u001b[0m, in \u001b[0;36m<cell line: 18>\u001b[0;34m()\u001b[0m\n\u001b[1;32m     12\u001b[0m \u001b[38;5;28;01mdef\u001b[39;00m \u001b[38;5;21mmean_neighbor\u001b[39m(feature):\n\u001b[1;32m     13\u001b[0m     \u001b[38;5;28;01mreturn\u001b[39;00m feature\u001b[38;5;241m.\u001b[39mreduceRegions(\n\u001b[1;32m     14\u001b[0m     collection \u001b[38;5;241m=\u001b[39m building_not_null_age,\n\u001b[1;32m     15\u001b[0m     reducer\u001b[38;5;241m=\u001b[39mee\u001b[38;5;241m.\u001b[39mReducer\u001b[38;5;241m.\u001b[39mmean(),\n\u001b[1;32m     16\u001b[0m     scale\u001b[38;5;241m=\u001b[39m\u001b[38;5;241m5\u001b[39m\n\u001b[1;32m     17\u001b[0m )\n\u001b[0;32m---> 18\u001b[0m null_building_age_mean_neighbor \u001b[38;5;241m=\u001b[39m \u001b[43mbuffered_buildings_1km\u001b[49m\u001b[38;5;241;43m.\u001b[39;49m\u001b[43mmap\u001b[49m\u001b[43m(\u001b[49m\u001b[43mmean_neighbor\u001b[49m\u001b[43m)\u001b[49m\n\u001b[1;32m     20\u001b[0m null_building_age_mean_neighbor\u001b[38;5;241m.\u001b[39mfilter(ee\u001b[38;5;241m.\u001b[39mFilter\u001b[38;5;241m.\u001b[39mlt(\u001b[38;5;241m2000\u001b[39m))\u001b[38;5;241m.\u001b[39mset(\u001b[38;5;124m'\u001b[39m\u001b[38;5;124mage\u001b[39m\u001b[38;5;124m'\u001b[39m, \u001b[38;5;241m1985\u001b[39m) \u001b[38;5;66;03m# set the age = 1985\u001b[39;00m\n\u001b[1;32m     22\u001b[0m null_building_age_mean_neighbor\u001b[38;5;241m.\u001b[39mfilter(ee\u001b[38;5;241m.\u001b[39mFilter\u001b[38;5;241m.\u001b[39mgte(\u001b[38;5;241m2000\u001b[39m))\u001b[38;5;241m.\u001b[39mset(\u001b[38;5;124m'\u001b[39m\u001b[38;5;124mage\u001b[39m\u001b[38;5;124m'\u001b[39m, \u001b[38;5;241m2015\u001b[39m) \u001b[38;5;66;03m# set the age = 2015\u001b[39;00m\n",
      "File \u001b[0;32m~/Library/Caches/pypoetry/virtualenvs/heating-loads-first-test-h1o2CJ0Z-py3.9/lib/python3.9/site-packages/ee/collection.py:204\u001b[0m, in \u001b[0;36mCollection.map\u001b[0;34m(self, algorithm, opt_dropNulls)\u001b[0m\n\u001b[1;32m    202\u001b[0m element_type \u001b[38;5;241m=\u001b[39m \u001b[38;5;28mself\u001b[39m\u001b[38;5;241m.\u001b[39melementType()\n\u001b[1;32m    203\u001b[0m with_cast \u001b[38;5;241m=\u001b[39m \u001b[38;5;28;01mlambda\u001b[39;00m e: algorithm(element_type(e))\n\u001b[0;32m--> 204\u001b[0m \u001b[38;5;28;01mreturn\u001b[39;00m \u001b[38;5;28mself\u001b[39m\u001b[38;5;241m.\u001b[39m_cast(\u001b[43mapifunction\u001b[49m\u001b[38;5;241;43m.\u001b[39;49m\u001b[43mApiFunction\u001b[49m\u001b[38;5;241;43m.\u001b[39;49m\u001b[43mcall_\u001b[49m\u001b[43m(\u001b[49m\n\u001b[1;32m    205\u001b[0m \u001b[43m    \u001b[49m\u001b[38;5;124;43m'\u001b[39;49m\u001b[38;5;124;43mCollection.map\u001b[39;49m\u001b[38;5;124;43m'\u001b[39;49m\u001b[43m,\u001b[49m\u001b[43m \u001b[49m\u001b[38;5;28;43mself\u001b[39;49m\u001b[43m,\u001b[49m\u001b[43m \u001b[49m\u001b[43mwith_cast\u001b[49m\u001b[43m,\u001b[49m\u001b[43m \u001b[49m\u001b[43mopt_dropNulls\u001b[49m\u001b[43m)\u001b[49m)\n",
      "File \u001b[0;32m~/Library/Caches/pypoetry/virtualenvs/heating-loads-first-test-h1o2CJ0Z-py3.9/lib/python3.9/site-packages/ee/apifunction.py:81\u001b[0m, in \u001b[0;36mApiFunction.call_\u001b[0;34m(cls, name, *args, **kwargs)\u001b[0m\n\u001b[1;32m     68\u001b[0m \u001b[38;5;129m@classmethod\u001b[39m\n\u001b[1;32m     69\u001b[0m \u001b[38;5;28;01mdef\u001b[39;00m \u001b[38;5;21mcall_\u001b[39m(\u001b[38;5;28mcls\u001b[39m, name, \u001b[38;5;241m*\u001b[39margs, \u001b[38;5;241m*\u001b[39m\u001b[38;5;241m*\u001b[39mkwargs):\n\u001b[1;32m     70\u001b[0m   \u001b[38;5;124;03m\"\"\"Call a named API function with positional and keyword arguments.\u001b[39;00m\n\u001b[1;32m     71\u001b[0m \n\u001b[1;32m     72\u001b[0m \u001b[38;5;124;03m  Args:\u001b[39;00m\n\u001b[0;32m   (...)\u001b[0m\n\u001b[1;32m     79\u001b[0m \u001b[38;5;124;03m    a recognized return type, the returned value will be cast to that type.\u001b[39;00m\n\u001b[1;32m     80\u001b[0m \u001b[38;5;124;03m  \"\"\"\u001b[39;00m\n\u001b[0;32m---> 81\u001b[0m   \u001b[38;5;28;01mreturn\u001b[39;00m \u001b[38;5;28;43mcls\u001b[39;49m\u001b[38;5;241;43m.\u001b[39;49m\u001b[43mlookup\u001b[49m\u001b[43m(\u001b[49m\u001b[43mname\u001b[49m\u001b[43m)\u001b[49m\u001b[38;5;241;43m.\u001b[39;49m\u001b[43mcall\u001b[49m\u001b[43m(\u001b[49m\u001b[38;5;241;43m*\u001b[39;49m\u001b[43margs\u001b[49m\u001b[43m,\u001b[49m\u001b[43m \u001b[49m\u001b[38;5;241;43m*\u001b[39;49m\u001b[38;5;241;43m*\u001b[39;49m\u001b[43mkwargs\u001b[49m\u001b[43m)\u001b[49m\n",
      "File \u001b[0;32m~/Library/Caches/pypoetry/virtualenvs/heating-loads-first-test-h1o2CJ0Z-py3.9/lib/python3.9/site-packages/ee/function.py:67\u001b[0m, in \u001b[0;36mFunction.call\u001b[0;34m(self, *args, **kwargs)\u001b[0m\n\u001b[1;32m     55\u001b[0m \u001b[38;5;28;01mdef\u001b[39;00m \u001b[38;5;21mcall\u001b[39m(\u001b[38;5;28mself\u001b[39m, \u001b[38;5;241m*\u001b[39margs, \u001b[38;5;241m*\u001b[39m\u001b[38;5;241m*\u001b[39mkwargs):\n\u001b[1;32m     56\u001b[0m   \u001b[38;5;124;03m\"\"\"Calls the function with the given positional and keyword arguments.\u001b[39;00m\n\u001b[1;32m     57\u001b[0m \n\u001b[1;32m     58\u001b[0m \u001b[38;5;124;03m  Args:\u001b[39;00m\n\u001b[0;32m   (...)\u001b[0m\n\u001b[1;32m     65\u001b[0m \u001b[38;5;124;03m    to that type.\u001b[39;00m\n\u001b[1;32m     66\u001b[0m \u001b[38;5;124;03m  \"\"\"\u001b[39;00m\n\u001b[0;32m---> 67\u001b[0m   \u001b[38;5;28;01mreturn\u001b[39;00m \u001b[38;5;28;43mself\u001b[39;49m\u001b[38;5;241;43m.\u001b[39;49m\u001b[43mapply\u001b[49m\u001b[43m(\u001b[49m\u001b[38;5;28;43mself\u001b[39;49m\u001b[38;5;241;43m.\u001b[39;49m\u001b[43mnameArgs\u001b[49m\u001b[43m(\u001b[49m\u001b[43margs\u001b[49m\u001b[43m,\u001b[49m\u001b[43m \u001b[49m\u001b[43mkwargs\u001b[49m\u001b[43m)\u001b[49m\u001b[43m)\u001b[49m\n",
      "File \u001b[0;32m~/Library/Caches/pypoetry/virtualenvs/heating-loads-first-test-h1o2CJ0Z-py3.9/lib/python3.9/site-packages/ee/function.py:80\u001b[0m, in \u001b[0;36mFunction.apply\u001b[0;34m(self, named_args)\u001b[0m\n\u001b[1;32m     69\u001b[0m \u001b[38;5;28;01mdef\u001b[39;00m \u001b[38;5;21mapply\u001b[39m(\u001b[38;5;28mself\u001b[39m, named_args):\n\u001b[1;32m     70\u001b[0m   \u001b[38;5;124;03m\"\"\"Calls the function with a dictionary of named arguments.\u001b[39;00m\n\u001b[1;32m     71\u001b[0m \n\u001b[1;32m     72\u001b[0m \u001b[38;5;124;03m  Args:\u001b[39;00m\n\u001b[0;32m   (...)\u001b[0m\n\u001b[1;32m     78\u001b[0m \u001b[38;5;124;03m    to that type.\u001b[39;00m\n\u001b[1;32m     79\u001b[0m \u001b[38;5;124;03m  \"\"\"\u001b[39;00m\n\u001b[0;32m---> 80\u001b[0m   result \u001b[38;5;241m=\u001b[39m computedobject\u001b[38;5;241m.\u001b[39mComputedObject(\u001b[38;5;28mself\u001b[39m, \u001b[38;5;28;43mself\u001b[39;49m\u001b[38;5;241;43m.\u001b[39;49m\u001b[43mpromoteArgs\u001b[49m\u001b[43m(\u001b[49m\u001b[43mnamed_args\u001b[49m\u001b[43m)\u001b[49m)\n\u001b[1;32m     81\u001b[0m   \u001b[38;5;28;01mreturn\u001b[39;00m Function\u001b[38;5;241m.\u001b[39m_promoter(result, \u001b[38;5;28mself\u001b[39m\u001b[38;5;241m.\u001b[39mgetReturnType())\n",
      "File \u001b[0;32m~/Library/Caches/pypoetry/virtualenvs/heating-loads-first-test-h1o2CJ0Z-py3.9/lib/python3.9/site-packages/ee/function.py:107\u001b[0m, in \u001b[0;36mFunction.promoteArgs\u001b[0;34m(self, args)\u001b[0m\n\u001b[1;32m    105\u001b[0m name \u001b[38;5;241m=\u001b[39m spec[\u001b[38;5;124m'\u001b[39m\u001b[38;5;124mname\u001b[39m\u001b[38;5;124m'\u001b[39m]\n\u001b[1;32m    106\u001b[0m \u001b[38;5;28;01mif\u001b[39;00m name \u001b[38;5;129;01min\u001b[39;00m args:\n\u001b[0;32m--> 107\u001b[0m   promoted_args[name] \u001b[38;5;241m=\u001b[39m \u001b[43mFunction\u001b[49m\u001b[38;5;241;43m.\u001b[39;49m\u001b[43m_promoter\u001b[49m\u001b[43m(\u001b[49m\u001b[43margs\u001b[49m\u001b[43m[\u001b[49m\u001b[43mname\u001b[49m\u001b[43m]\u001b[49m\u001b[43m,\u001b[49m\u001b[43m \u001b[49m\u001b[43mspec\u001b[49m\u001b[43m[\u001b[49m\u001b[38;5;124;43m'\u001b[39;49m\u001b[38;5;124;43mtype\u001b[39;49m\u001b[38;5;124;43m'\u001b[39;49m\u001b[43m]\u001b[49m\u001b[43m)\u001b[49m\n\u001b[1;32m    108\u001b[0m \u001b[38;5;28;01melif\u001b[39;00m \u001b[38;5;129;01mnot\u001b[39;00m spec\u001b[38;5;241m.\u001b[39mget(\u001b[38;5;124m'\u001b[39m\u001b[38;5;124moptional\u001b[39m\u001b[38;5;124m'\u001b[39m):\n\u001b[1;32m    109\u001b[0m   \u001b[38;5;28;01mraise\u001b[39;00m ee_exception\u001b[38;5;241m.\u001b[39mEEException(\n\u001b[1;32m    110\u001b[0m       \u001b[38;5;124m'\u001b[39m\u001b[38;5;124mRequired argument (\u001b[39m\u001b[38;5;132;01m%s\u001b[39;00m\u001b[38;5;124m) missing to function: \u001b[39m\u001b[38;5;132;01m%s\u001b[39;00m\u001b[38;5;124m'\u001b[39m\n\u001b[1;32m    111\u001b[0m       \u001b[38;5;241m%\u001b[39m (name, \u001b[38;5;28mself\u001b[39m\u001b[38;5;241m.\u001b[39mname))\n",
      "File \u001b[0;32m~/Library/Caches/pypoetry/virtualenvs/heating-loads-first-test-h1o2CJ0Z-py3.9/lib/python3.9/site-packages/ee/__init__.py:261\u001b[0m, in \u001b[0;36m_Promote\u001b[0;34m(arg, klass)\u001b[0m\n\u001b[1;32m    259\u001b[0m   \u001b[38;5;28;01melse\u001b[39;00m:\n\u001b[1;32m    260\u001b[0m     args_count \u001b[38;5;241m=\u001b[39m \u001b[38;5;28mlen\u001b[39m(inspect\u001b[38;5;241m.\u001b[39mgetfullargspec(arg)\u001b[38;5;241m.\u001b[39margs)\n\u001b[0;32m--> 261\u001b[0m   \u001b[38;5;28;01mreturn\u001b[39;00m \u001b[43mCustomFunction\u001b[49m\u001b[38;5;241;43m.\u001b[39;49m\u001b[43mcreate\u001b[49m\u001b[43m(\u001b[49m\u001b[43marg\u001b[49m\u001b[43m,\u001b[49m\u001b[43m \u001b[49m\u001b[38;5;124;43m'\u001b[39;49m\u001b[38;5;124;43mObject\u001b[39;49m\u001b[38;5;124;43m'\u001b[39;49m\u001b[43m,\u001b[49m\u001b[43m \u001b[49m\u001b[43m[\u001b[49m\u001b[38;5;124;43m'\u001b[39;49m\u001b[38;5;124;43mObject\u001b[39;49m\u001b[38;5;124;43m'\u001b[39;49m\u001b[43m]\u001b[49m\u001b[43m \u001b[49m\u001b[38;5;241;43m*\u001b[39;49m\u001b[43m \u001b[49m\u001b[43margs_count\u001b[49m\u001b[43m)\u001b[49m\n\u001b[1;32m    262\u001b[0m \u001b[38;5;28;01melif\u001b[39;00m \u001b[38;5;28misinstance\u001b[39m(arg, Encodable):\n\u001b[1;32m    263\u001b[0m   \u001b[38;5;66;03m# An ee.Function or a computed function like the return value of\u001b[39;00m\n\u001b[1;32m    264\u001b[0m   \u001b[38;5;66;03m# Image.parseExpression().\u001b[39;00m\n\u001b[1;32m    265\u001b[0m   \u001b[38;5;28;01mreturn\u001b[39;00m arg\n",
      "File \u001b[0;32m~/Library/Caches/pypoetry/virtualenvs/heating-loads-first-test-h1o2CJ0Z-py3.9/lib/python3.9/site-packages/ee/customfunction.py:125\u001b[0m, in \u001b[0;36mCustomFunction.create\u001b[0;34m(func, return_type, arg_types)\u001b[0m\n\u001b[1;32m    119\u001b[0m args \u001b[38;5;241m=\u001b[39m [{\u001b[38;5;124m'\u001b[39m\u001b[38;5;124mname\u001b[39m\u001b[38;5;124m'\u001b[39m: \u001b[38;5;28;01mNone\u001b[39;00m, \u001b[38;5;124m'\u001b[39m\u001b[38;5;124mtype\u001b[39m\u001b[38;5;124m'\u001b[39m: StringifyType(i)} \u001b[38;5;28;01mfor\u001b[39;00m i \u001b[38;5;129;01min\u001b[39;00m arg_types]\n\u001b[1;32m    120\u001b[0m signature \u001b[38;5;241m=\u001b[39m {\n\u001b[1;32m    121\u001b[0m     \u001b[38;5;124m'\u001b[39m\u001b[38;5;124mname\u001b[39m\u001b[38;5;124m'\u001b[39m: \u001b[38;5;124m'\u001b[39m\u001b[38;5;124m'\u001b[39m,\n\u001b[1;32m    122\u001b[0m     \u001b[38;5;124m'\u001b[39m\u001b[38;5;124mreturns\u001b[39m\u001b[38;5;124m'\u001b[39m: StringifyType(return_type),\n\u001b[1;32m    123\u001b[0m     \u001b[38;5;124m'\u001b[39m\u001b[38;5;124margs\u001b[39m\u001b[38;5;124m'\u001b[39m: args\n\u001b[1;32m    124\u001b[0m }\n\u001b[0;32m--> 125\u001b[0m \u001b[38;5;28;01mreturn\u001b[39;00m \u001b[43mCustomFunction\u001b[49m\u001b[43m(\u001b[49m\u001b[43msignature\u001b[49m\u001b[43m,\u001b[49m\u001b[43m \u001b[49m\u001b[43mfunc\u001b[49m\u001b[43m)\u001b[49m\n",
      "File \u001b[0;32m~/Library/Caches/pypoetry/virtualenvs/heating-loads-first-test-h1o2CJ0Z-py3.9/lib/python3.9/site-packages/ee/customfunction.py:43\u001b[0m, in \u001b[0;36mCustomFunction.__init__\u001b[0;34m(self, signature, body)\u001b[0m\n\u001b[1;32m     29\u001b[0m \u001b[38;5;124;03m\"\"\"Creates a function defined by a given expression with unbound variables.\u001b[39;00m\n\u001b[1;32m     30\u001b[0m \n\u001b[1;32m     31\u001b[0m \u001b[38;5;124;03mThe expression is created by evaluating the given function\u001b[39;00m\n\u001b[0;32m   (...)\u001b[0m\n\u001b[1;32m     38\u001b[0m \u001b[38;5;124;03m  body: The Python function to evaluate.\u001b[39;00m\n\u001b[1;32m     39\u001b[0m \u001b[38;5;124;03m\"\"\"\u001b[39;00m\n\u001b[1;32m     40\u001b[0m variables \u001b[38;5;241m=\u001b[39m [CustomFunction\u001b[38;5;241m.\u001b[39mvariable(arg[\u001b[38;5;124m'\u001b[39m\u001b[38;5;124mtype\u001b[39m\u001b[38;5;124m'\u001b[39m], arg[\u001b[38;5;124m'\u001b[39m\u001b[38;5;124mname\u001b[39m\u001b[38;5;124m'\u001b[39m])\n\u001b[1;32m     41\u001b[0m              \u001b[38;5;28;01mfor\u001b[39;00m arg \u001b[38;5;129;01min\u001b[39;00m signature[\u001b[38;5;124m'\u001b[39m\u001b[38;5;124margs\u001b[39m\u001b[38;5;124m'\u001b[39m]]\n\u001b[0;32m---> 43\u001b[0m \u001b[38;5;28;01mif\u001b[39;00m \u001b[43mbody\u001b[49m\u001b[43m(\u001b[49m\u001b[38;5;241;43m*\u001b[39;49m\u001b[43mvariables\u001b[49m\u001b[43m)\u001b[49m \u001b[38;5;129;01mis\u001b[39;00m \u001b[38;5;28;01mNone\u001b[39;00m:\n\u001b[1;32m     44\u001b[0m   \u001b[38;5;28;01mraise\u001b[39;00m ee_exception\u001b[38;5;241m.\u001b[39mEEException(\u001b[38;5;124m'\u001b[39m\u001b[38;5;124mUser-defined methods must return a value\u001b[39m\u001b[38;5;124m'\u001b[39m)\n\u001b[1;32m     46\u001b[0m \u001b[38;5;66;03m# The signature of the function.\u001b[39;00m\n",
      "File \u001b[0;32m~/Library/Caches/pypoetry/virtualenvs/heating-loads-first-test-h1o2CJ0Z-py3.9/lib/python3.9/site-packages/ee/collection.py:203\u001b[0m, in \u001b[0;36mCollection.map.<locals>.<lambda>\u001b[0;34m(e)\u001b[0m\n\u001b[1;32m    185\u001b[0m \u001b[38;5;124;03m\"\"\"Maps an algorithm over a collection.\u001b[39;00m\n\u001b[1;32m    186\u001b[0m \n\u001b[1;32m    187\u001b[0m \u001b[38;5;124;03mArgs:\u001b[39;00m\n\u001b[0;32m   (...)\u001b[0m\n\u001b[1;32m    200\u001b[0m \u001b[38;5;124;03m  ee_exception.EEException: if algorithm is not a function.\u001b[39;00m\n\u001b[1;32m    201\u001b[0m \u001b[38;5;124;03m\"\"\"\u001b[39;00m\n\u001b[1;32m    202\u001b[0m element_type \u001b[38;5;241m=\u001b[39m \u001b[38;5;28mself\u001b[39m\u001b[38;5;241m.\u001b[39melementType()\n\u001b[0;32m--> 203\u001b[0m with_cast \u001b[38;5;241m=\u001b[39m \u001b[38;5;28;01mlambda\u001b[39;00m e: \u001b[43malgorithm\u001b[49m\u001b[43m(\u001b[49m\u001b[43melement_type\u001b[49m\u001b[43m(\u001b[49m\u001b[43me\u001b[49m\u001b[43m)\u001b[49m\u001b[43m)\u001b[49m\n\u001b[1;32m    204\u001b[0m \u001b[38;5;28;01mreturn\u001b[39;00m \u001b[38;5;28mself\u001b[39m\u001b[38;5;241m.\u001b[39m_cast(apifunction\u001b[38;5;241m.\u001b[39mApiFunction\u001b[38;5;241m.\u001b[39mcall_(\n\u001b[1;32m    205\u001b[0m     \u001b[38;5;124m'\u001b[39m\u001b[38;5;124mCollection.map\u001b[39m\u001b[38;5;124m'\u001b[39m, \u001b[38;5;28mself\u001b[39m, with_cast, opt_dropNulls))\n",
      "Input \u001b[0;32mIn [214]\u001b[0m, in \u001b[0;36mmean_neighbor\u001b[0;34m(feature)\u001b[0m\n\u001b[1;32m     12\u001b[0m \u001b[38;5;28;01mdef\u001b[39;00m \u001b[38;5;21mmean_neighbor\u001b[39m(feature):\n\u001b[0;32m---> 13\u001b[0m     \u001b[38;5;28;01mreturn\u001b[39;00m \u001b[43mfeature\u001b[49m\u001b[38;5;241;43m.\u001b[39;49m\u001b[43mreduceRegions\u001b[49m(\n\u001b[1;32m     14\u001b[0m     collection \u001b[38;5;241m=\u001b[39m building_not_null_age,\n\u001b[1;32m     15\u001b[0m     reducer\u001b[38;5;241m=\u001b[39mee\u001b[38;5;241m.\u001b[39mReducer\u001b[38;5;241m.\u001b[39mmean(),\n\u001b[1;32m     16\u001b[0m     scale\u001b[38;5;241m=\u001b[39m\u001b[38;5;241m5\u001b[39m\n\u001b[1;32m     17\u001b[0m )\n",
      "\u001b[0;31mAttributeError\u001b[0m: 'Feature' object has no attribute 'reduceRegions'"
     ]
    }
   ],
   "source": [
    "# get buildings with age as None\n",
    "building_null_age = combined_data.filter(ee.Filter.eq('age', None))\n",
    "\n",
    "def buffer_poly_1000(feature):\n",
    "    return feature.buffer(1000)\n",
    "\n",
    "# calculate buffers around buildings with null age\n",
    "buffered_buildings_1km = building_null_age.map(buffer_poly_1000)\n",
    "\n",
    "# keep buildings that intersect with buffer buildings\n",
    "def is_neighbor(polygon, inputGeom):\n",
    "    polygon.intersection({'right': inputGeom})\n",
    "\n",
    "building_not_null_age = combined_data.filter(\n",
    "  ee.Filter.notNull(combined_data.propertyNames()))\n",
    "\n",
    "def mean_neighbor(feature):\n",
    "    return feature.reduceRegions(\n",
    "    collection = building_not_null_age,\n",
    "    reducer=ee.Reducer.mean(),\n",
    "    scale=5\n",
    ")\n",
    "null_building_age_mean_neighbor = buffered_buildings_1km.map(mean_neighbor)\n",
    "\n",
    "null_building_age_mean_neighbor.filter(ee.Filter.lt(2000)).set('age', 1985) # set the age = 1985\n",
    "\n",
    "null_building_age_mean_neighbor.filter(ee.Filter.gte(2000)).set('age', 2015) # set the age = 2015\n",
    "\n",
    "building_age = null_building_age_mean_neighbor.merge(building_not_null_age)"
   ]
  },
  {
   "cell_type": "markdown",
   "id": "59354b92",
   "metadata": {},
   "source": [
    "# Building Height --> building_height (array)"
   ]
  },
  {
   "cell_type": "code",
   "execution_count": 162,
   "id": "9d91875c",
   "metadata": {},
   "outputs": [],
   "source": [
    "# Import FABDEM (Forest And Buildings removed Copernicus 30m DEM) - for elevation\n",
    "fabdem = ee.ImageCollection(\"projects/sat-io/open-datasets/FABDEM\").filter(\n",
    "    #ee.Filter.bounds(geometry_bounds.geometry())\n",
    "    ee.Filter.bounds(geometry_bounds)\n",
    ")\n",
    "ground_elevation = fabdem.mosaic()\n",
    "\n",
    "# Import GLO--with buildings\n",
    "glo30 = ee.ImageCollection(\"projects/sat-io/open-datasets/GLO-30\")\n",
    "building_elevation = glo30.mosaic().setDefaultProjection('EPSG:3857',None,30)"
   ]
  },
  {
   "cell_type": "code",
   "execution_count": 163,
   "id": "c9d0cc0a",
   "metadata": {},
   "outputs": [],
   "source": [
    "# Calculate the max height for each building\n",
    "building_height = building_elevation.reduceRegions(collection= building_outlines,\n",
    "  reducer=ee.Reducer.max(),\n",
    "  scale=10,\n",
    ")"
   ]
  },
  {
   "cell_type": "code",
   "execution_count": 164,
   "id": "7ca783bb",
   "metadata": {},
   "outputs": [],
   "source": [
    "# Calculate the 75th percentile height for each building\n",
    "building_height_perc = building_elevation.reduceRegions(collection= building_outlines,\n",
    "  reducer=ee.Reducer.percentile([75]),\n",
    "  scale=10,\n",
    ")"
   ]
  },
  {
   "cell_type": "code",
   "execution_count": 165,
   "id": "2e921d84",
   "metadata": {},
   "outputs": [],
   "source": [
    "# add 5m buffers to each feature\n",
    "def buffer_poly_5(feature):\n",
    "    return feature.buffer(5)\n",
    "\n",
    "buffered_buildings = building_outlines.map(buffer_poly_5)"
   ]
  },
  {
   "cell_type": "code",
   "execution_count": 166,
   "id": "4aaf4c5d",
   "metadata": {},
   "outputs": [],
   "source": [
    "# Calculate the min height for the buffered buildings\n",
    "buffered_buildings_min_height = building_elevation.reduceRegions(collection=buffered_buildings,\n",
    "  reducer= ee.Reducer.min(),\n",
    "  scale=10\n",
    ")\n",
    "\n",
    "# Calculate difference between max of buildings and min of buffer + building\n",
    "max_height_array = ee.Array(buffered_buildings_min_height.aggregate_array('max'))\n",
    "min_height_array = ee.Array(buffered_buildings_min_height.aggregate_array('min'))\n",
    "\n",
    "building_height = max_height_array.subtract(min_height_array)\n"
   ]
  },
  {
   "cell_type": "markdown",
   "id": "6f226afa",
   "metadata": {},
   "source": [
    "# Combine everything and export\n",
    "\n",
    "- degree_days_30y_norm_regression (feature collection)\n",
    "- degree_days_10y_norm (feature collection)\n",
    "- degree_days_30y_norm(feature collection)\n",
    "- building_outlines (feature collection)\n",
    "- building_area (feature collection)\n",
    "- building_age (feature collection)\n",
    "- building_height (array)"
   ]
  },
  {
   "cell_type": "code",
   "execution_count": 167,
   "id": "df579a28",
   "metadata": {},
   "outputs": [],
   "source": [
    "combined_data = degree_days_30y_norm_regression.merge([building_outlines, building_area, building_age, building_height, degree_days_10y_norm, degree_days_30y_norm])\n"
   ]
  },
  {
   "cell_type": "code",
   "execution_count": 168,
   "id": "e952f3f4",
   "metadata": {},
   "outputs": [
    {
     "data": {
      "text/plain": [
       "ee.featurecollection.FeatureCollection"
      ]
     },
     "execution_count": 168,
     "metadata": {},
     "output_type": "execute_result"
    }
   ],
   "source": [
    "type(combined_data)"
   ]
  },
  {
   "cell_type": "markdown",
   "id": "c7510c92",
   "metadata": {},
   "source": [
    "# Regression Relationship"
   ]
  },
  {
   "cell_type": "code",
   "execution_count": 201,
   "id": "4afe151b",
   "metadata": {},
   "outputs": [],
   "source": [
    "# Regression Eqn\n",
    "# y = -1.204x + 2514.6\n",
    "\n",
    "def reg(feature):\n",
    "    age  = ee.Number(feature.get('age'))\n",
    "    sq_ft  = ee.Number(feature.get('sq_ft'))\n",
    "    return feature.set({ 'heat_load': (age.multiply(-1.204).add(2514.6).multiply(sq_ft))})\n",
    "\n",
    "# Apply regression relationship to every building that has a non null building age\n",
    "building_not_null_age = combined_data.filter(\n",
    "  ee.Filter.notNull(combined_data.propertyNames())) # unsure about this: combined_data.first().propertyNames()\n",
    "\n",
    "building_null_age = combined_data.filter(ee.Filter.eq('age', None))\n",
    "\n",
    "\n",
    "building_null_age.set('age', 1985)\n",
    "\n",
    "btu_out = building_not_null_age.map(reg)\n"
   ]
  },
  {
   "cell_type": "code",
   "execution_count": 202,
   "id": "7bedcf81",
   "metadata": {},
   "outputs": [],
   "source": [
    "# Merging btu & null collections\n",
    "combined_data_btu = btu_out.merge(building_null_age)"
   ]
  },
  {
   "cell_type": "code",
   "execution_count": 173,
   "id": "ba9622fb",
   "metadata": {},
   "outputs": [],
   "source": [
    "combined_data_final = combined_data.merge(combined_data_btu)"
   ]
  },
  {
   "cell_type": "code",
   "execution_count": 174,
   "id": "db7878cb",
   "metadata": {},
   "outputs": [],
   "source": [
    "# ['degree_days_40y_norm', 'building_outlines', 'building_area', 'building_age', 'building_height']"
   ]
  },
  {
   "cell_type": "code",
   "execution_count": 175,
   "id": "67f52ff0",
   "metadata": {},
   "outputs": [],
   "source": [
    "# indexes = ee.List(combined_data_final.aggregate_array('system:index'))\n",
    "# ids = ee.List.sequence(1, indexes.size())\n",
    "# idByIndex = ee.Dictionary.fromLists(indexes, ids)\n",
    "\n",
    "# def add_ID(feature):\n",
    "#     return feature.set('id', idByIndex.get(feature.get('system:index')))\n",
    "\n",
    "# datasetWithId = combined_data_final.map(add_ID)"
   ]
  },
  {
   "cell_type": "code",
   "execution_count": 176,
   "id": "483ed1ff",
   "metadata": {},
   "outputs": [],
   "source": [
    "# group1 = combined_data_final.filter(ee.Filter.lte('ids', 500))"
   ]
  },
  {
   "cell_type": "code",
   "execution_count": 177,
   "id": "8966303c",
   "metadata": {},
   "outputs": [],
   "source": [
    "# group1.select['ids']"
   ]
  },
  {
   "cell_type": "code",
   "execution_count": 215,
   "id": "aba915e6",
   "metadata": {},
   "outputs": [],
   "source": [
    "task = ee.batch.Export.table.toDrive(building_height, folder='GEE_Output', description='Anchorage_Data_group1', fileFormat='CSV', selectors=['building_height'])\n"
   ]
  },
  {
   "cell_type": "code",
   "execution_count": 216,
   "id": "b670ee59",
   "metadata": {},
   "outputs": [],
   "source": [
    "task.start()"
   ]
  },
  {
   "cell_type": "code",
   "execution_count": 239,
   "id": "8a593db1",
   "metadata": {},
   "outputs": [
    {
     "data": {
      "text/plain": [
       "{'state': 'FAILED',\n",
       " 'description': 'Anchorage_Data_group1',\n",
       " 'creation_timestamp_ms': 1660062147939,\n",
       " 'update_timestamp_ms': 1660062778319,\n",
       " 'start_timestamp_ms': 1660062162095,\n",
       " 'task_type': 'EXPORT_FEATURES',\n",
       " 'attempt': 1,\n",
       " 'error_message': 'Array.subtract: Binary array lengths should be equal, but found: axis 0 has lengths 138920 and 141088.',\n",
       " 'id': 'BYIEQAMDMVNHZCIYZXFRIHVG',\n",
       " 'name': 'projects/earthengine-legacy/operations/BYIEQAMDMVNHZCIYZXFRIHVG'}"
      ]
     },
     "execution_count": 239,
     "metadata": {},
     "output_type": "execute_result"
    }
   ],
   "source": [
    "task.status()"
   ]
  },
  {
   "cell_type": "code",
   "execution_count": 145,
   "id": "632c92d2",
   "metadata": {},
   "outputs": [],
   "source": [
    "# # Export to CSV :)\n",
    "# labels = ee.List(['40y avg degree days', '.geo','sq feet', 'age', 'meters', 'heat_load'])\n",
    "\n",
    "# Export.table.toDrive({\n",
    "#   collection: combined_data_final,\n",
    "#   description: 'Anchorage_Data',\n",
    "#   folder: 'GEE_Output',\n",
    "#   fileFormat: 'CSV',\n",
    "#   selectors: labels.getInfo()\n",
    "# })"
   ]
  },
  {
   "cell_type": "code",
   "execution_count": null,
   "id": "82ecee99",
   "metadata": {},
   "outputs": [],
   "source": [
    "import geemap"
   ]
  },
  {
   "cell_type": "code",
   "execution_count": null,
   "id": "49bbe9a3",
   "metadata": {},
   "outputs": [],
   "source": [
    "df = geemap.ee_to_pandas(combined_data_final)\n",
    "df.head()"
   ]
  },
  {
   "cell_type": "code",
   "execution_count": null,
   "id": "0e591a10",
   "metadata": {},
   "outputs": [],
   "source": []
  },
  {
   "cell_type": "code",
   "execution_count": null,
   "id": "d39edbe7",
   "metadata": {},
   "outputs": [],
   "source": []
  },
  {
   "cell_type": "code",
   "execution_count": null,
   "id": "a07b7918",
   "metadata": {},
   "outputs": [],
   "source": []
  },
  {
   "cell_type": "code",
   "execution_count": null,
   "id": "b2b83af4",
   "metadata": {},
   "outputs": [],
   "source": []
  },
  {
   "cell_type": "code",
   "execution_count": null,
   "id": "dce71d1b",
   "metadata": {},
   "outputs": [],
   "source": []
  }
 ],
 "metadata": {
  "kernelspec": {
   "display_name": "Python 3 (ipykernel)",
   "language": "python",
   "name": "python3"
  },
  "language_info": {
   "codemirror_mode": {
    "name": "ipython",
    "version": 3
   },
   "file_extension": ".py",
   "mimetype": "text/x-python",
   "name": "python",
   "nbconvert_exporter": "python",
   "pygments_lexer": "ipython3",
   "version": "3.9.7"
  }
 },
 "nbformat": 4,
 "nbformat_minor": 5
}
