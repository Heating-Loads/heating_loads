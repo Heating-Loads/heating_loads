{
 "cells": [
  {
   "cell_type": "code",
   "execution_count": 43,
   "id": "ac368ff5",
   "metadata": {},
   "outputs": [],
   "source": [
    "import os\n",
    "import pandas as pd\n",
    "import matplotlib.pyplot as plt\n",
    "import numpy as np"
   ]
  },
  {
   "cell_type": "code",
   "execution_count": 44,
   "id": "f12c9fbf",
   "metadata": {},
   "outputs": [],
   "source": [
    "# read in data and get square footage of buildings\n",
    "btus = pd.read_csv('/Users/Maddie/Desktop/DSSG/heating_loads/Alaska-Building-Mean.csv')"
   ]
  },
  {
   "cell_type": "code",
   "execution_count": 45,
   "id": "e22e8a95",
   "metadata": {},
   "outputs": [
    {
     "data": {
      "text/html": [
       "<div>\n",
       "<style scoped>\n",
       "    .dataframe tbody tr th:only-of-type {\n",
       "        vertical-align: middle;\n",
       "    }\n",
       "\n",
       "    .dataframe tbody tr th {\n",
       "        vertical-align: top;\n",
       "    }\n",
       "\n",
       "    .dataframe thead th {\n",
       "        text-align: right;\n",
       "    }\n",
       "</style>\n",
       "<table border=\"1\" class=\"dataframe\">\n",
       "  <thead>\n",
       "    <tr style=\"text-align: right;\">\n",
       "      <th></th>\n",
       "      <th>system:index</th>\n",
       "      <th>FD_sum</th>\n",
       "      <th>TD_sum</th>\n",
       "      <th>areaHa</th>\n",
       "      <th>capture_da</th>\n",
       "      <th>release</th>\n",
       "      <th>temperature_2m_sum</th>\n",
       "      <th>.geo</th>\n",
       "    </tr>\n",
       "  </thead>\n",
       "  <tbody>\n",
       "    <tr>\n",
       "      <th>0</th>\n",
       "      <td>0_00000000000000018473</td>\n",
       "      <td>-626.971841</td>\n",
       "      <td>1936.538982</td>\n",
       "      <td>0.286874</td>\n",
       "      <td>NaN</td>\n",
       "      <td>1</td>\n",
       "      <td>1309.567141</td>\n",
       "      <td>{\"type\":\"Polygon\",\"coordinates\":[[[-149.878952...</td>\n",
       "    </tr>\n",
       "    <tr>\n",
       "      <th>1</th>\n",
       "      <td>0_00000000000000016228</td>\n",
       "      <td>-2044.805382</td>\n",
       "      <td>2015.381312</td>\n",
       "      <td>0.373711</td>\n",
       "      <td>NaN</td>\n",
       "      <td>1</td>\n",
       "      <td>-29.424070</td>\n",
       "      <td>{\"type\":\"Polygon\",\"coordinates\":[[[-147.729808...</td>\n",
       "    </tr>\n",
       "    <tr>\n",
       "      <th>2</th>\n",
       "      <td>0_000000000000000025d6</td>\n",
       "      <td>-2016.900174</td>\n",
       "      <td>2038.350779</td>\n",
       "      <td>0.369413</td>\n",
       "      <td>NaN</td>\n",
       "      <td>1</td>\n",
       "      <td>21.450605</td>\n",
       "      <td>{\"type\":\"Polygon\",\"coordinates\":[[[-147.647613...</td>\n",
       "    </tr>\n",
       "    <tr>\n",
       "      <th>3</th>\n",
       "      <td>0_0000000000000000ad72</td>\n",
       "      <td>-851.829564</td>\n",
       "      <td>1611.500139</td>\n",
       "      <td>0.368092</td>\n",
       "      <td>NaN</td>\n",
       "      <td>1</td>\n",
       "      <td>759.670575</td>\n",
       "      <td>{\"type\":\"Polygon\",\"coordinates\":[[[-149.693052...</td>\n",
       "    </tr>\n",
       "    <tr>\n",
       "      <th>4</th>\n",
       "      <td>0_00000000000000015614</td>\n",
       "      <td>-538.429856</td>\n",
       "      <td>1633.319100</td>\n",
       "      <td>0.255810</td>\n",
       "      <td>NaN</td>\n",
       "      <td>1</td>\n",
       "      <td>1094.889244</td>\n",
       "      <td>{\"type\":\"Polygon\",\"coordinates\":[[[-134.584235...</td>\n",
       "    </tr>\n",
       "  </tbody>\n",
       "</table>\n",
       "</div>"
      ],
      "text/plain": [
       "             system:index       FD_sum       TD_sum    areaHa  capture_da  \\\n",
       "0  0_00000000000000018473  -626.971841  1936.538982  0.286874         NaN   \n",
       "1  0_00000000000000016228 -2044.805382  2015.381312  0.373711         NaN   \n",
       "2  0_000000000000000025d6 -2016.900174  2038.350779  0.369413         NaN   \n",
       "3  0_0000000000000000ad72  -851.829564  1611.500139  0.368092         NaN   \n",
       "4  0_00000000000000015614  -538.429856  1633.319100  0.255810         NaN   \n",
       "\n",
       "   release  temperature_2m_sum  \\\n",
       "0        1         1309.567141   \n",
       "1        1          -29.424070   \n",
       "2        1           21.450605   \n",
       "3        1          759.670575   \n",
       "4        1         1094.889244   \n",
       "\n",
       "                                                .geo  \n",
       "0  {\"type\":\"Polygon\",\"coordinates\":[[[-149.878952...  \n",
       "1  {\"type\":\"Polygon\",\"coordinates\":[[[-147.729808...  \n",
       "2  {\"type\":\"Polygon\",\"coordinates\":[[[-147.647613...  \n",
       "3  {\"type\":\"Polygon\",\"coordinates\":[[[-149.693052...  \n",
       "4  {\"type\":\"Polygon\",\"coordinates\":[[[-134.584235...  "
      ]
     },
     "execution_count": 45,
     "metadata": {},
     "output_type": "execute_result"
    }
   ],
   "source": [
    "btus.head()"
   ]
  },
  {
   "cell_type": "code",
   "execution_count": 46,
   "id": "49e3884c",
   "metadata": {},
   "outputs": [],
   "source": [
    "sq_ft = np.array(btus['areaHa'].drop_duplicates().tolist())*107639"
   ]
  },
  {
   "cell_type": "code",
   "execution_count": 47,
   "id": "452fb326",
   "metadata": {},
   "outputs": [],
   "source": [
    "# sq_ft = np.sort(np.array(btus['sq_ft'].to_list()))\n",
    "building_inds = np.arange(len(sq_ft))\n",
    "#btus['unique_ind'] = building_inds"
   ]
  },
  {
   "cell_type": "code",
   "execution_count": 48,
   "id": "098af3d9",
   "metadata": {},
   "outputs": [],
   "source": [
    "# specify bin settings\n",
    "bin_range = 1000 # max square foot difference in bin\n",
    "num_bins = int((max(sq_ft) - min(sq_ft))/bin_range) + 1 # total number of bins\n",
    "\n",
    "# create bins\n",
    "bins = {}\n",
    "for i in range(num_bins):\n",
    "    bins[i] = []\n",
    "    \n",
    "# fill bins\n",
    "for i in range(len(sq_ft)):\n",
    "    building = sq_ft[i]\n",
    "    building_ind = building_inds[i]\n",
    "    bin_ = int(building/bin_range)\n",
    "    bins[bin_].append(building_ind)\n",
    "\n",
    "# get count of buildings in each bin\n",
    "bin_count = np.zeros(num_bins)\n",
    "for i in range(num_bins):\n",
    "    bin_count[i] = len(bins[i])"
   ]
  },
  {
   "cell_type": "code",
   "execution_count": 91,
   "id": "2b255524",
   "metadata": {},
   "outputs": [
    {
     "data": {
      "text/plain": [
       "array([  11.04335624,   17.42654377,   17.90641837, ..., 9996.03201448,\n",
       "       9999.40236593, 9999.95780874])"
      ]
     },
     "execution_count": 91,
     "metadata": {},
     "output_type": "execute_result"
    }
   ],
   "source": [
    "np.sort(sq_ft)[:-2909]"
   ]
  },
  {
   "cell_type": "code",
   "execution_count": 92,
   "id": "bf95a03b",
   "metadata": {},
   "outputs": [
    {
     "data": {
      "text/plain": [
       "(array([28360., 39835., 25063.,  7094.,  2850.,  1876.,  1216.,   759.,\n",
       "          602.,   478.]),\n",
       " array([  11.04335624, 1009.93480149, 2008.82624674, 3007.71769199,\n",
       "        4006.60913724, 5005.50058249, 6004.39202774, 7003.28347299,\n",
       "        8002.17491824, 9001.06636349, 9999.95780874]),\n",
       " <BarContainer object of 10 artists>)"
      ]
     },
     "execution_count": 92,
     "metadata": {},
     "output_type": "execute_result"
    },
    {
     "data": {
      "image/png": "[encoded data removed]",
      "text/plain": [
       "<Figure size 432x288 with 1 Axes>"
      ]
     },
     "metadata": {
      "needs_background": "light"
     },
     "output_type": "display_data"
    }
   ],
   "source": [
    "plt.hist(np.sort(sq_ft)[:-2909])"
   ]
  },
  {
   "cell_type": "code",
   "execution_count": 54,
   "id": "7a28f913",
   "metadata": {},
   "outputs": [
    {
     "data": {
      "image/png": "[encoded data removed]",
      "text/plain": [
       "<Figure size 432x288 with 1 Axes>"
      ]
     },
     "metadata": {
      "needs_background": "light"
     },
     "output_type": "display_data"
    }
   ],
   "source": [
    "end = 10\n",
    "plt.plot(np.arange(0, max(sq_ft), 1000)[:end]+1000, bin_count[:end]) # number of buildings per bin\n",
    "\n",
    "plt.title(\"Number of buildings in each 1000 sq ft bin (<10,000 sq ft)\")\n",
    "plt.xlabel(\"Sq ft bins\")\n",
    "plt.ylabel(\"Number of Buildings\")\n",
    "\n",
    "plt.show()\n"
   ]
  },
  {
   "cell_type": "code",
   "execution_count": 53,
   "id": "c4432b63",
   "metadata": {},
   "outputs": [
    {
     "data": {
      "text/plain": [
       "28081.0"
      ]
     },
     "execution_count": 53,
     "metadata": {},
     "output_type": "execute_result"
    }
   ],
   "source": [
    "bin_count[0]"
   ]
  },
  {
   "cell_type": "code",
   "execution_count": null,
   "id": "8c775a65",
   "metadata": {},
   "outputs": [],
   "source": [
    "bin_count"
   ]
  },
  {
   "cell_type": "code",
   "execution_count": 51,
   "id": "08555f28",
   "metadata": {},
   "outputs": [
    {
     "data": {
      "text/plain": [
       "111042"
      ]
     },
     "execution_count": 51,
     "metadata": {},
     "output_type": "execute_result"
    }
   ],
   "source": [
    "len(sq_ft)"
   ]
  },
  {
   "cell_type": "code",
   "execution_count": 23,
   "id": "a893123f",
   "metadata": {},
   "outputs": [
    {
     "data": {
      "text/plain": [
       "array([6.350e+02, 7.649e+03, 7.754e+03, 2.495e+03, 1.137e+03, 7.270e+02,\n",
       "       5.500e+02, 3.530e+02, 3.360e+02, 2.450e+02, 2.050e+02, 1.670e+02,\n",
       "       1.410e+02, 1.220e+02, 1.180e+02, 7.100e+01, 1.070e+02, 6.200e+01,\n",
       "       6.200e+01, 5.800e+01, 4.500e+01, 4.800e+01, 3.200e+01, 3.600e+01,\n",
       "       4.500e+01, 3.400e+01, 2.400e+01, 2.400e+01, 2.600e+01, 2.400e+01,\n",
       "       2.600e+01, 2.200e+01, 1.800e+01, 1.400e+01, 1.200e+01, 1.600e+01,\n",
       "       9.000e+00, 1.100e+01, 1.500e+01, 1.100e+01, 1.700e+01, 8.000e+00,\n",
       "       8.000e+00, 7.000e+00, 1.300e+01, 6.000e+00, 9.000e+00, 7.000e+00,\n",
       "       1.000e+01, 9.000e+00, 1.100e+01, 9.000e+00, 1.000e+00, 1.000e+01,\n",
       "       7.000e+00, 5.000e+00, 8.000e+00, 9.000e+00, 7.000e+00, 4.000e+00,\n",
       "       7.000e+00, 5.000e+00, 1.200e+01, 7.000e+00, 4.000e+00, 2.000e+00,\n",
       "       1.000e+00, 7.000e+00, 5.000e+00, 4.000e+00, 2.000e+00, 2.000e+00,\n",
       "       5.000e+00, 3.000e+00, 2.000e+00, 2.000e+00, 3.000e+00, 2.000e+00,\n",
       "       2.000e+00, 2.000e+00, 3.000e+00, 3.000e+00, 2.000e+00, 4.000e+00,\n",
       "       1.000e+00, 1.000e+00, 2.000e+00, 5.000e+00, 1.000e+00, 2.000e+00,\n",
       "       3.000e+00, 1.000e+00, 0.000e+00, 0.000e+00, 0.000e+00, 2.000e+00,\n",
       "       2.000e+00, 2.000e+00, 1.000e+00, 3.000e+00, 1.000e+00, 1.000e+00,\n",
       "       2.000e+00, 2.000e+00, 1.000e+00, 1.000e+00, 1.000e+00, 0.000e+00,\n",
       "       0.000e+00, 2.000e+00, 0.000e+00, 1.000e+00, 1.000e+00, 3.000e+00,\n",
       "       3.000e+00, 0.000e+00, 1.000e+00, 0.000e+00, 1.000e+00, 0.000e+00,\n",
       "       1.000e+00, 1.000e+00, 1.000e+00, 4.000e+00, 0.000e+00, 0.000e+00,\n",
       "       1.000e+00, 0.000e+00, 0.000e+00, 0.000e+00, 0.000e+00, 2.000e+00,\n",
       "       0.000e+00, 0.000e+00, 2.000e+00, 1.000e+00, 0.000e+00, 0.000e+00,\n",
       "       1.000e+00, 0.000e+00, 0.000e+00, 0.000e+00, 0.000e+00, 0.000e+00,\n",
       "       0.000e+00, 0.000e+00, 0.000e+00, 1.000e+00, 0.000e+00, 0.000e+00,\n",
       "       2.000e+00, 1.000e+00, 1.000e+00, 0.000e+00, 1.000e+00, 1.000e+00,\n",
       "       0.000e+00, 1.000e+00, 0.000e+00, 1.000e+00, 1.000e+00, 0.000e+00,\n",
       "       1.000e+00, 2.000e+00, 3.000e+00, 1.000e+00, 0.000e+00, 1.000e+00,\n",
       "       1.000e+00, 0.000e+00, 3.000e+00, 0.000e+00, 2.000e+00, 1.000e+00])"
      ]
     },
     "execution_count": 23,
     "metadata": {},
     "output_type": "execute_result"
    }
   ],
   "source": [
    "bin_count[:29*6]"
   ]
  },
  {
   "cell_type": "code",
   "execution_count": 20,
   "id": "12a8ef4a",
   "metadata": {},
   "outputs": [
    {
     "data": {
      "text/plain": [
       "array([], dtype=float64)"
      ]
     },
     "execution_count": 20,
     "metadata": {},
     "output_type": "execute_result"
    }
   ],
   "source": [
    "bin_count[1000:]"
   ]
  },
  {
   "cell_type": "code",
   "execution_count": 17,
   "id": "25cba65a",
   "metadata": {
    "scrolled": true
   },
   "outputs": [
    {
     "data": {
      "text/plain": [
       "0.02661246385314949"
      ]
     },
     "execution_count": 17,
     "metadata": {},
     "output_type": "execute_result"
    }
   ],
   "source": [
    "sum(bin_count[:1])/len(sq_ft)"
   ]
  },
  {
   "cell_type": "code",
   "execution_count": 18,
   "id": "7c62e10b",
   "metadata": {},
   "outputs": [
    {
     "data": {
      "text/plain": [
       "1000.0"
      ]
     },
     "execution_count": 18,
     "metadata": {},
     "output_type": "execute_result"
    }
   ],
   "source": [
    "np.arange(0, max(sq_ft), 1000)[1]"
   ]
  },
  {
   "cell_type": "code",
   "execution_count": null,
   "id": "5cdebd27",
   "metadata": {},
   "outputs": [],
   "source": []
  },
  {
   "cell_type": "code",
   "execution_count": 10,
   "id": "066a1887",
   "metadata": {},
   "outputs": [
    {
     "data": {
      "image/png": "[encoded data removed]",
      "text/plain": [
       "<Figure size 432x288 with 1 Axes>"
      ]
     },
     "metadata": {
      "needs_background": "light"
     },
     "output_type": "display_data"
    }
   ],
   "source": [
    "# plot building ages\n",
    "ages = btus['age'].tolist()\n",
    "uniq_ages = np.unique(ages)\n",
    "ages_count_dict = {}\n",
    "for a in ages:\n",
    "    if a not in ages_count_dict.keys():\n",
    "        ages_count_dict[a] = 0\n",
    "    ages_count_dict[a] +=1\n",
    "\n",
    "plt.plot(uniq_ages, ages_count_dict.values())\n",
    "plt.title(\"Number of buildings at each age\")\n",
    "plt.xlabel(\"Building Ages\")\n",
    "plt.ylabel(\"Number of Buildings\")\n",
    "\n",
    "plt.show()"
   ]
  },
  {
   "cell_type": "code",
   "execution_count": 8,
   "id": "cafe2bbd",
   "metadata": {},
   "outputs": [
    {
     "data": {
      "text/plain": [
       "array([1985, 1986, 1987, 1988, 1989, 1990, 1991, 1992, 1993, 1994, 1995,\n",
       "       1996, 1997, 1998, 1999, 2000, 2001, 2002, 2003, 2004, 2005, 2006,\n",
       "       2007, 2008, 2009, 2010, 2011, 2012, 2013, 2014, 2015])"
      ]
     },
     "execution_count": 8,
     "metadata": {},
     "output_type": "execute_result"
    }
   ],
   "source": [
    "uniq_ages"
   ]
  },
  {
   "cell_type": "code",
   "execution_count": 85,
   "id": "35079b21",
   "metadata": {},
   "outputs": [],
   "source": [
    "# generate bin probabilities for sampling\n",
    "bin_probs = bin_count/sum(bin_count)\n",
    "\n",
    "# choose bins based on bin probabilities\n",
    "bins_to_sample = np.random.choice(np.arange(num_bins),  len(sq_ft),  p=bin_probs)\n",
    "\n",
    "# train, val, test split\n",
    "num_train = int(.6 *len(sq_ft))\n",
    "num_val = int(.2 *len(sq_ft))\n",
    "num_test = len(sq_ft) - num_train - num_val\n",
    "\n",
    "train_bins = bins_to_sample[:num_train]\n",
    "val_bins = bins_to_sample[num_train:num_val]\n",
    "test_bins = bins_to_sample[num_val:]\n"
   ]
  },
  {
   "cell_type": "code",
   "execution_count": 86,
   "id": "4d891a89",
   "metadata": {},
   "outputs": [
    {
     "ename": "ValueError",
     "evalue": "'a' cannot be empty unless no samples are taken",
     "output_type": "error",
     "traceback": [
      "\u001b[0;31m---------------------------------------------------------------------------\u001b[0m",
      "\u001b[0;31mValueError\u001b[0m                                Traceback (most recent call last)",
      "Input \u001b[0;32mIn [86]\u001b[0m, in \u001b[0;36m<cell line: 3>\u001b[0;34m()\u001b[0m\n\u001b[1;32m      2\u001b[0m sampled_buildings_train \u001b[38;5;241m=\u001b[39m []\n\u001b[1;32m      3\u001b[0m \u001b[38;5;28;01mfor\u001b[39;00m bin_ind \u001b[38;5;129;01min\u001b[39;00m train_bins:\n\u001b[0;32m----> 4\u001b[0m     choice \u001b[38;5;241m=\u001b[39m \u001b[43mnp\u001b[49m\u001b[38;5;241;43m.\u001b[39;49m\u001b[43mrandom\u001b[49m\u001b[38;5;241;43m.\u001b[39;49m\u001b[43mchoice\u001b[49m\u001b[43m(\u001b[49m\u001b[43mbins\u001b[49m\u001b[43m[\u001b[49m\u001b[43mbin_ind\u001b[49m\u001b[43m]\u001b[49m\u001b[43m)\u001b[49m\n\u001b[1;32m      5\u001b[0m     sampled_buildings_train\u001b[38;5;241m.\u001b[39mappend(choice)\n\u001b[1;32m      7\u001b[0m     \u001b[38;5;66;03m# remove it from the bins so it won't be sampled in val or test\u001b[39;00m\n",
      "File \u001b[0;32mmtrand.pyx:915\u001b[0m, in \u001b[0;36mnumpy.random.mtrand.RandomState.choice\u001b[0;34m()\u001b[0m\n",
      "\u001b[0;31mValueError\u001b[0m: 'a' cannot be empty unless no samples are taken"
     ]
    }
   ],
   "source": [
    "# now randomly choose buildings from bins for train\n",
    "sampled_buildings_train = []\n",
    "for bin_ind in train_bins:\n",
    "    choice = np.random.choice(bins[bin_ind])\n",
    "    sampled_buildings_train.append(choice)\n",
    "    \n",
    "    # remove it from the bins so it won't be sampled in val or test\n",
    "    bins[bin_ind].remove(choice)\n",
    "    \n",
    "# now randomly choose buildings from bins for val\n",
    "sampled_buildings_val = []\n",
    "for bin_ind in val_bins:\n",
    "    choice = np.random.choice(bins[bin_ind])\n",
    "    sampled_buildings_val.append(choice)\n",
    "    \n",
    "    # remove it from the bins so it won't be sampled in test\n",
    "    bins[bin_ind].remove(choice)\n",
    "\n",
    "# now randomly choose buildings from bins for test\n",
    "sampled_buildings_test = []\n",
    "for bin_ind in val_bins:\n",
    "    choice = np.random.choice(bins[bin_ind])\n",
    "    sampled_buildings_test.append(choice)\n"
   ]
  },
  {
   "cell_type": "code",
   "execution_count": null,
   "id": "9711631a",
   "metadata": {},
   "outputs": [],
   "source": [
    "# TODO: are we sampling from bins too much?"
   ]
  }
 ],
 "metadata": {
  "kernelspec": {
   "display_name": "Python 3 (ipykernel)",
   "language": "python",
   "name": "python3"
  },
  "language_info": {
   "codemirror_mode": {
    "name": "ipython",
    "version": 3
   },
   "file_extension": ".py",
   "mimetype": "text/x-python",
   "name": "python",
   "nbconvert_exporter": "python",
   "pygments_lexer": "ipython3",
   "version": "3.9.7"
  }
 },
 "nbformat": 4,
 "nbformat_minor": 5
}
