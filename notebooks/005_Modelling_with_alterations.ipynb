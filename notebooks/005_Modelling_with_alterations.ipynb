{
 "cells": [
  {
   "cell_type": "code",
   "execution_count": 31,
   "id": "d6fc72c6",
   "metadata": {},
   "outputs": [],
   "source": [
    "import pandas as pd\n",
    "import numpy as np\n",
    "import os\n",
    "import numpy as np\n",
    "import sklearn\n",
    "from sklearn.preprocessing import StandardScaler\n",
    "from sklearn.model_selection import train_test_split\n",
    "from sklearn.linear_model import Ridge\n",
    "from sklearn.linear_model import RidgeCV\n",
    "from sklearn.metrics import mean_squared_error\n",
    "from sklearn.linear_model import LogisticRegression\n",
    "from sklearn.feature_selection import SelectFromModel\n",
    "from sklearn.tree import DecisionTreeRegressor\n",
    "from sklearn.ensemble import RandomForestRegressor\n",
    "import matplotlib.pyplot as plt\n",
    "from matplotlib.lines import Line2D\n",
    "%matplotlib inline\n",
    "import seaborn as sns\n",
    "import statsmodels.formula.api as smf\n",
    "from sklearn.preprocessing import PolynomialFeatures\n",
    "from sklearn.linear_model import LinearRegression\n",
    "from sklearn.model_selection import GridSearchCV"
   ]
  },
  {
   "cell_type": "code",
   "execution_count": 2,
   "id": "a44c194b",
   "metadata": {},
   "outputs": [],
   "source": [
    "path = '../data/'"
   ]
  },
  {
   "cell_type": "code",
   "execution_count": 3,
   "id": "fe4f1e4c",
   "metadata": {},
   "outputs": [],
   "source": [
    "# Read data on building features from the railbelt grid\n",
    "\n",
    "building_features = pd.read_csv('../output/data_btu_railbelt.csv')"
   ]
  },
  {
   "cell_type": "code",
   "execution_count": 4,
   "id": "61dc5a3f",
   "metadata": {},
   "outputs": [],
   "source": [
    "# Drop rows with missing btu values \n",
    "building_features_nonmissing = building_features.dropna()"
   ]
  },
  {
   "cell_type": "code",
   "execution_count": 5,
   "id": "93fbf608",
   "metadata": {},
   "outputs": [],
   "source": [
    "# Create numpy arrays for scikit learn \n",
    "\n",
    "features_dropped = ['annual_btu_persqft', 'annual_btu', 'age', 'osm_id', 'zip_code', 'zip_group', 'age_yrs']\n",
    "features_kept = building_features_nonmissing.drop(features_dropped, axis=1).columns\n",
    "\n",
    "X = np.array(building_features_nonmissing.drop(features_dropped, axis=1))\n",
    "y = np.array(building_features_nonmissing['annual_btu_persqft'])\n",
    "y = y.reshape([y.shape[0],1])"
   ]
  },
  {
   "cell_type": "code",
   "execution_count": 6,
   "id": "c4efed1e",
   "metadata": {},
   "outputs": [
    {
     "name": "stdout",
     "output_type": "stream",
     "text": [
      "[[-2.36647622e-01 -1.36319468e+00  6.30103054e-01 ... -6.91183213e-01\n",
      "   6.24785266e-01 -4.27196025e-01]\n",
      " [ 5.60365535e-01 -1.40887797e+00 -1.82141606e+00 ... -6.12882768e-02\n",
      "  -1.83340954e+00 -8.28775438e-01]\n",
      " [-2.49227319e-01 -1.72916194e+00 -1.62415591e+00 ...  2.91711194e+00\n",
      "  -1.64795878e+00  2.05128845e+00]\n",
      " ...\n",
      " [-1.89331561e-01 -1.43274316e-02  6.30103054e-01 ... -6.91183213e-01\n",
      "   6.24785266e-01 -4.27196025e-01]\n",
      " [-1.53472145e-01 -4.06869950e-01  6.30103054e-01 ... -6.91183213e-01\n",
      "   6.24785266e-01 -4.27196025e-01]\n",
      " [-2.72891665e-01 -6.33809416e-01 -2.43415856e-02 ...  1.69498701e+00\n",
      "  -1.67554736e-03  1.67421160e+00]]\n"
     ]
    }
   ],
   "source": [
    "# Scale X\n",
    "\n",
    "scaler = StandardScaler()\n",
    "scaler.fit(X)\n",
    "X = scaler.transform(X)\n",
    "\n",
    "print(X)"
   ]
  },
  {
   "cell_type": "code",
   "execution_count": 7,
   "id": "376acfb7",
   "metadata": {},
   "outputs": [
    {
     "name": "stdout",
     "output_type": "stream",
     "text": [
      "[[-0.81007095]\n",
      " [ 0.79558361]\n",
      " [ 0.97646015]\n",
      " ...\n",
      " [-2.05842429]\n",
      " [-2.05842429]\n",
      " [-2.05842429]]\n"
     ]
    }
   ],
   "source": [
    "# Scale y\n",
    "\n",
    "scaler = StandardScaler()\n",
    "scaler.fit(y)\n",
    "y = scaler.transform(y)\n",
    "\n",
    "print(y)"
   ]
  },
  {
   "cell_type": "code",
   "execution_count": 8,
   "id": "8b81413f",
   "metadata": {},
   "outputs": [],
   "source": [
    "# Divide intro training and testing datasets, with a 30-70 ratio\n",
    "X_train, X_test, y_train, y_test = train_test_split(X, y, test_size = 0.3, random_state = 1)"
   ]
  },
  {
   "cell_type": "code",
   "execution_count": 9,
   "id": "e249558d",
   "metadata": {},
   "outputs": [
    {
     "name": "stdout",
     "output_type": "stream",
     "text": [
      "[[ 5.54120833e-02 -1.14090826e-01 -2.14737520e+11  1.49743849e+12\n",
      "  -7.73943677e+10  1.09568485e+12 -1.38491655e+11  1.96912560e+12\n",
      "   7.25520117e+10 -4.74250549e+11 -8.00962089e+10  1.00878315e+12\n",
      "   4.38122425e+11 -4.69206902e+12]]\n"
     ]
    }
   ],
   "source": [
    "# Linear Regression\n",
    "\n",
    "\n",
    "lm = LinearRegression()\n",
    "lm.fit(X_train,y_train)\n",
    "\n",
    "y_pred_lm = lm.predict(X_test) # predicting using train dataset\n",
    "\n",
    "coeffs = lm.coef_\n",
    "print(coeffs)"
   ]
  },
  {
   "cell_type": "code",
   "execution_count": 10,
   "id": "84a64cbe",
   "metadata": {},
   "outputs": [
    {
     "name": "stdout",
     "output_type": "stream",
     "text": [
      "[[ 0.05477184 -0.11559082 -0.77912365 -0.22402072  1.746955   -1.99298117\n",
      "   1.99800218  0.60038588 -1.41476797 -1.21952529 -2.58213343  2.648863\n",
      "   0.320525    0.40783449]]\n"
     ]
    }
   ],
   "source": [
    "# Ridge Regression\n",
    "\n",
    "ridge = Ridge(alpha= 0.5)\n",
    "ridge.fit(X_train, y_train)\n",
    "\n",
    "y_pred_ridge = ridge.predict(X_test)\n",
    "coeffs = ridge.coef_\n",
    "print(coeffs)"
   ]
  },
  {
   "cell_type": "code",
   "execution_count": 11,
   "id": "bcf00979",
   "metadata": {},
   "outputs": [
    {
     "name": "stdout",
     "output_type": "stream",
     "text": [
      "[[ 0.05511111 -0.11587457 -1.25082593 -0.11223177  4.78323424 -3.23187967\n",
      "   3.35854926 -0.09056519 -4.99078867 -1.32209019 -3.32914199  4.4251314\n",
      "   1.511375    0.25649324]]\n"
     ]
    }
   ],
   "source": [
    "# Ridge Regression with Cross Validation\n",
    "\n",
    "ridgeCV = RidgeCV(cv=10).fit(X_train, y_train)\n",
    "\n",
    "y_pred_ridgeCV = ridgeCV.predict(X_test)\n",
    "coeffs = ridgeCV.coef_\n",
    "print(coeffs)"
   ]
  },
  {
   "cell_type": "code",
   "execution_count": 12,
   "id": "095b6837",
   "metadata": {},
   "outputs": [
    {
     "name": "stdout",
     "output_type": "stream",
     "text": [
      "There are 14 features\n"
     ]
    },
    {
     "data": {
      "text/html": [
       "<div>\n",
       "<style scoped>\n",
       "    .dataframe tbody tr th:only-of-type {\n",
       "        vertical-align: middle;\n",
       "    }\n",
       "\n",
       "    .dataframe tbody tr th {\n",
       "        vertical-align: top;\n",
       "    }\n",
       "\n",
       "    .dataframe thead th {\n",
       "        text-align: right;\n",
       "    }\n",
       "</style>\n",
       "<table border=\"1\" class=\"dataframe\">\n",
       "  <thead>\n",
       "    <tr style=\"text-align: right;\">\n",
       "      <th></th>\n",
       "      <th>predictors</th>\n",
       "      <th>coefficients</th>\n",
       "    </tr>\n",
       "  </thead>\n",
       "  <tbody>\n",
       "    <tr>\n",
       "      <th>0</th>\n",
       "      <td>areasq_ft</td>\n",
       "      <td>0.055111</td>\n",
       "    </tr>\n",
       "    <tr>\n",
       "      <th>1</th>\n",
       "      <td>height</td>\n",
       "      <td>-0.115875</td>\n",
       "    </tr>\n",
       "    <tr>\n",
       "      <th>2</th>\n",
       "      <td>FD_1981_2010</td>\n",
       "      <td>-1.250826</td>\n",
       "    </tr>\n",
       "    <tr>\n",
       "      <th>3</th>\n",
       "      <td>TD_1981_2010</td>\n",
       "      <td>-0.112232</td>\n",
       "    </tr>\n",
       "    <tr>\n",
       "      <th>4</th>\n",
       "      <td>FD_2000</td>\n",
       "      <td>4.783234</td>\n",
       "    </tr>\n",
       "    <tr>\n",
       "      <th>5</th>\n",
       "      <td>TD_2000</td>\n",
       "      <td>-3.231880</td>\n",
       "    </tr>\n",
       "    <tr>\n",
       "      <th>6</th>\n",
       "      <td>FD_2010</td>\n",
       "      <td>3.358549</td>\n",
       "    </tr>\n",
       "    <tr>\n",
       "      <th>7</th>\n",
       "      <td>TD_2010</td>\n",
       "      <td>-0.090565</td>\n",
       "    </tr>\n",
       "    <tr>\n",
       "      <th>8</th>\n",
       "      <td>FD_80</td>\n",
       "      <td>-4.990789</td>\n",
       "    </tr>\n",
       "    <tr>\n",
       "      <th>9</th>\n",
       "      <td>TD_80</td>\n",
       "      <td>-1.322090</td>\n",
       "    </tr>\n",
       "    <tr>\n",
       "      <th>10</th>\n",
       "      <td>FD_90</td>\n",
       "      <td>-3.329142</td>\n",
       "    </tr>\n",
       "    <tr>\n",
       "      <th>11</th>\n",
       "      <td>TD_90</td>\n",
       "      <td>4.425131</td>\n",
       "    </tr>\n",
       "    <tr>\n",
       "      <th>12</th>\n",
       "      <td>FD_recent_1991_2020</td>\n",
       "      <td>1.511375</td>\n",
       "    </tr>\n",
       "    <tr>\n",
       "      <th>13</th>\n",
       "      <td>TD_recent_1991_2020</td>\n",
       "      <td>0.256493</td>\n",
       "    </tr>\n",
       "  </tbody>\n",
       "</table>\n",
       "</div>"
      ],
      "text/plain": [
       "             predictors  coefficients\n",
       "0             areasq_ft      0.055111\n",
       "1                height     -0.115875\n",
       "2          FD_1981_2010     -1.250826\n",
       "3          TD_1981_2010     -0.112232\n",
       "4               FD_2000      4.783234\n",
       "5               TD_2000     -3.231880\n",
       "6               FD_2010      3.358549\n",
       "7               TD_2010     -0.090565\n",
       "8                 FD_80     -4.990789\n",
       "9                 TD_80     -1.322090\n",
       "10                FD_90     -3.329142\n",
       "11                TD_90      4.425131\n",
       "12  FD_recent_1991_2020      1.511375\n",
       "13  TD_recent_1991_2020      0.256493"
      ]
     },
     "execution_count": 12,
     "metadata": {},
     "output_type": "execute_result"
    }
   ],
   "source": [
    "# Displaying features with their coefficients from ridge\n",
    "\n",
    "\n",
    "imp_feat = SelectFromModel(ridgeCV, prefit = True, threshold = 0) \n",
    "\n",
    "imp_index = imp_feat.get_support()\n",
    "\n",
    "imp_feature_table = pd.DataFrame({'predictors':features_kept, 'coefficients': list(ridgeCV.coef_[0])})[imp_index]\n",
    "\n",
    "print(f'There are {len(imp_feature_table)} features')\n",
    "\n",
    "imp_feature_table"
   ]
  },
  {
   "cell_type": "code",
   "execution_count": 13,
   "id": "bd2c5e08",
   "metadata": {},
   "outputs": [
    {
     "data": {
      "text/plain": [
       "([0, 1, 2, 3, 4, 5, 6, 7, 8, 9, 10, 11, 12, 13],\n",
       " [Text(0, 0, ''),\n",
       "  Text(0, 0, ''),\n",
       "  Text(0, 0, ''),\n",
       "  Text(0, 0, ''),\n",
       "  Text(0, 0, ''),\n",
       "  Text(0, 0, ''),\n",
       "  Text(0, 0, ''),\n",
       "  Text(0, 0, ''),\n",
       "  Text(0, 0, ''),\n",
       "  Text(0, 0, ''),\n",
       "  Text(0, 0, ''),\n",
       "  Text(0, 0, ''),\n",
       "  Text(0, 0, ''),\n",
       "  Text(0, 0, '')])"
      ]
     },
     "execution_count": 13,
     "metadata": {},
     "output_type": "execute_result"
    },
    {
     "data": {
      "image/png": "[encoded data removed]",
      "text/plain": [
       "<Figure size 432x288 with 1 Axes>"
      ]
     },
     "metadata": {
      "needs_background": "light"
     },
     "output_type": "display_data"
    }
   ],
   "source": [
    "plt.bar(imp_feature_table['predictors'], imp_feature_table['coefficients'])\n",
    "plt.xticks(rotation=90, fontsize=16)"
   ]
  },
  {
   "cell_type": "code",
   "execution_count": 14,
   "id": "bac75a2a",
   "metadata": {},
   "outputs": [],
   "source": [
    "# Decision tree\n",
    "\n",
    "dt = DecisionTreeRegressor(random_state=3).fit(X_train, y_train)\n",
    "y_pred_dt = dt.predict(X_test)"
   ]
  },
  {
   "cell_type": "code",
   "execution_count": 15,
   "id": "9466d368",
   "metadata": {},
   "outputs": [],
   "source": [
    "# Random Forest Regressor\n",
    "\n",
    "rf = RandomForestRegressor(max_depth=15, random_state=3)\n",
    "rf.fit(X_train, y_train.reshape(len(y_train)))\n",
    "\n",
    "y_pred_rf = rf.predict(X_test)"
   ]
  },
  {
   "cell_type": "code",
   "execution_count": 16,
   "id": "97e3fc63",
   "metadata": {},
   "outputs": [
    {
     "name": "stdout",
     "output_type": "stream",
     "text": [
      "MSE model_linear: 0.9355677401238724\n",
      "MSE model_ridge: 0.9359106176815764\n",
      "MSE model_dt: 1.691196696702023\n",
      "MSE model_rf: 0.8665833815513895\n"
     ]
    }
   ],
   "source": [
    "mse_lm = mean_squared_error(y_test, y_pred_lm)\n",
    "print(\"MSE model_linear:\", mse_lm)\n",
    "mse_ridge = mean_squared_error(y_test, y_pred_ridge)\n",
    "print(\"MSE model_ridge:\", mse_ridge)\n",
    "mse_dt = mean_squared_error(y_test, y_pred_dt)\n",
    "print(\"MSE model_dt:\", mse_dt)\n",
    "mse_rf = mean_squared_error(y_test, y_pred_rf)\n",
    "print(\"MSE model_rf:\", mse_rf)"
   ]
  },
  {
   "cell_type": "code",
   "execution_count": 17,
   "id": "8084ae47",
   "metadata": {},
   "outputs": [
    {
     "data": {
      "image/png": "[encoded data removed]",
      "text/plain": [
       "<Figure size 914.4x667.44 with 1 Axes>"
      ]
     },
     "metadata": {},
     "output_type": "display_data"
    }
   ],
   "source": [
    "# # Displaying features with their importances from decision tree\n",
    "\n",
    "f = pd.DataFrame({'features' : list(features_kept), 'feature_importance' : list(dt.feature_importances_ )})\n",
    "f = f.sort_values(by = 'feature_importance')\n",
    "\n",
    "sns.set(rc={'figure.figsize':(12.7,9.27)})\n",
    "\n",
    "barplot = sns.barplot(x='features', y = 'feature_importance', data = f)\n",
    "\n",
    "ticks = barplot.set_xticklabels(barplot.get_xticklabels(),rotation = 90)"
   ]
  },
  {
   "cell_type": "markdown",
   "id": "185c1064",
   "metadata": {},
   "source": [
    "# Predicted Output - total btu"
   ]
  },
  {
   "cell_type": "code",
   "execution_count": 18,
   "id": "1f760708",
   "metadata": {},
   "outputs": [],
   "source": [
    "# Create numpy arrays for scikit learn (putting age_yrs back as predictor)\n",
    "\n",
    "features_dropped = ['annual_btu_persqft', 'annual_btu', 'age', 'osm_id', 'zip_code', 'zip_group']\n",
    "features_kept = building_features_nonmissing.drop(features_dropped, axis=1).columns\n",
    "\n",
    "X = np.array(building_features_nonmissing.drop(features_dropped, axis=1))\n",
    "\n",
    "y = np.array(building_features_nonmissing['annual_btu'])\n",
    "y = y.reshape([y.shape[0],1])"
   ]
  },
  {
   "cell_type": "code",
   "execution_count": 19,
   "id": "94698925",
   "metadata": {},
   "outputs": [
    {
     "name": "stdout",
     "output_type": "stream",
     "text": [
      "[[-2.36647622e-01 -1.36319468e+00  6.30103054e-01 ...  6.24785266e-01\n",
      "  -4.27196025e-01 -6.55471735e-01]\n",
      " [ 5.60365535e-01 -1.40887797e+00 -1.82141606e+00 ... -1.83340954e+00\n",
      "  -8.28775438e-01  4.68359044e-01]\n",
      " [-2.49227319e-01 -1.72916194e+00 -1.62415591e+00 ... -1.64795878e+00\n",
      "   2.05128845e+00  6.74235544e-01]\n",
      " ...\n",
      " [-1.89331561e-01 -1.43274316e-02  6.30103054e-01 ...  6.24785266e-01\n",
      "  -4.27196025e-01 -1.82818238e+00]\n",
      " [-1.53472145e-01 -4.06869950e-01  6.30103054e-01 ...  6.24785266e-01\n",
      "  -4.27196025e-01 -1.82818238e+00]\n",
      " [-2.72891665e-01 -6.33809416e-01 -2.43415856e-02 ... -1.67554736e-03\n",
      "   1.67421160e+00 -1.82818238e+00]]\n"
     ]
    }
   ],
   "source": [
    "# Scale X\n",
    "\n",
    "scaler = StandardScaler()\n",
    "scaler.fit(X)\n",
    "X = scaler.transform(X)\n",
    "\n",
    "print(X)"
   ]
  },
  {
   "cell_type": "code",
   "execution_count": 20,
   "id": "e3ae75d0",
   "metadata": {},
   "outputs": [
    {
     "name": "stdout",
     "output_type": "stream",
     "text": [
      "[[-0.24278597]\n",
      " [ 0.61673398]\n",
      " [-0.22906071]\n",
      " ...\n",
      " [-0.22946559]\n",
      " [-0.20496812]\n",
      " [-0.28654992]]\n"
     ]
    }
   ],
   "source": [
    "# Scale y\n",
    "\n",
    "scaler = StandardScaler()\n",
    "scaler.fit(y)\n",
    "y = scaler.transform(y)\n",
    "\n",
    "print(y)"
   ]
  },
  {
   "cell_type": "code",
   "execution_count": 21,
   "id": "bc446fa6",
   "metadata": {},
   "outputs": [],
   "source": [
    "# Divide intro training and testing datasets, with a 30-70 ratio\n",
    "X_train, X_test, y_train, y_test = train_test_split(X, y, test_size = 0.3, random_state = 1)"
   ]
  },
  {
   "cell_type": "code",
   "execution_count": 22,
   "id": "1582c526",
   "metadata": {},
   "outputs": [
    {
     "name": "stdout",
     "output_type": "stream",
     "text": [
      "[[ 1.00008502e+00 -1.93452093e-03  1.04360982e+10 -6.06203891e+10\n",
      "   1.18970783e+10 -6.90452970e+10  1.43811100e+10 -1.09349120e+11\n",
      "  -3.52597868e+09  1.91989541e+10  1.23124059e+10 -6.35691296e+10\n",
      "  -4.54950646e+10  2.60559111e+11  3.42317267e-02]]\n"
     ]
    }
   ],
   "source": [
    "# Linear Regression\n",
    "\n",
    "\n",
    "lm = LinearRegression()\n",
    "lm.fit(X_train,y_train)\n",
    "\n",
    "y_pred_lm = lm.predict(X_test) # predicting using train dataset\n",
    "\n",
    "coeffs = lm.coef_\n",
    "print(coeffs)"
   ]
  },
  {
   "cell_type": "code",
   "execution_count": 23,
   "id": "19989902",
   "metadata": {},
   "outputs": [
    {
     "name": "stdout",
     "output_type": "stream",
     "text": [
      "[[ 1.00009793 -0.00203164  0.00142633 -0.00410093  0.05992798 -0.01839554\n",
      "  -0.00469907  0.02027931  0.05380313  0.02546026 -0.1076463  -0.01632988\n",
      "  -0.01878925 -0.00317812  0.0342321 ]]\n"
     ]
    }
   ],
   "source": [
    "# Ridge Regression\n",
    "\n",
    "ridge = Ridge(alpha= 0.5)\n",
    "ridge.fit(X_train, y_train)\n",
    "\n",
    "y_pred_ridge = ridge.predict(X_test)\n",
    "coeffs = ridge.coef_\n",
    "print(coeffs)"
   ]
  },
  {
   "cell_type": "code",
   "execution_count": 24,
   "id": "5a472412",
   "metadata": {},
   "outputs": [
    {
     "name": "stdout",
     "output_type": "stream",
     "text": [
      "[[ 0.9999119  -0.00201878 -0.0031771  -0.00179395  0.0047484  -0.01265164\n",
      "   0.00524509  0.01072829  0.00148576  0.02267323 -0.01551225 -0.01304764\n",
      "  -0.00214234 -0.00412147  0.0342443 ]]\n"
     ]
    }
   ],
   "source": [
    "# Ridge Regression with Cross Validation\n",
    "\n",
    "ridgeCV = RidgeCV(cv=10).fit(X_train, y_train)\n",
    "\n",
    "y_pred_ridgeCV = ridgeCV.predict(X_test)\n",
    "coeffs = ridgeCV.coef_\n",
    "print(coeffs)"
   ]
  },
  {
   "cell_type": "code",
   "execution_count": 25,
   "id": "14a5aa21",
   "metadata": {},
   "outputs": [
    {
     "name": "stdout",
     "output_type": "stream",
     "text": [
      "There are 15 features\n"
     ]
    },
    {
     "data": {
      "text/html": [
       "<div>\n",
       "<style scoped>\n",
       "    .dataframe tbody tr th:only-of-type {\n",
       "        vertical-align: middle;\n",
       "    }\n",
       "\n",
       "    .dataframe tbody tr th {\n",
       "        vertical-align: top;\n",
       "    }\n",
       "\n",
       "    .dataframe thead th {\n",
       "        text-align: right;\n",
       "    }\n",
       "</style>\n",
       "<table border=\"1\" class=\"dataframe\">\n",
       "  <thead>\n",
       "    <tr style=\"text-align: right;\">\n",
       "      <th></th>\n",
       "      <th>predictors</th>\n",
       "      <th>coefficients</th>\n",
       "    </tr>\n",
       "  </thead>\n",
       "  <tbody>\n",
       "    <tr>\n",
       "      <th>0</th>\n",
       "      <td>areasq_ft</td>\n",
       "      <td>0.999912</td>\n",
       "    </tr>\n",
       "    <tr>\n",
       "      <th>1</th>\n",
       "      <td>height</td>\n",
       "      <td>-0.002019</td>\n",
       "    </tr>\n",
       "    <tr>\n",
       "      <th>2</th>\n",
       "      <td>FD_1981_2010</td>\n",
       "      <td>-0.003177</td>\n",
       "    </tr>\n",
       "    <tr>\n",
       "      <th>3</th>\n",
       "      <td>TD_1981_2010</td>\n",
       "      <td>-0.001794</td>\n",
       "    </tr>\n",
       "    <tr>\n",
       "      <th>4</th>\n",
       "      <td>FD_2000</td>\n",
       "      <td>0.004748</td>\n",
       "    </tr>\n",
       "    <tr>\n",
       "      <th>5</th>\n",
       "      <td>TD_2000</td>\n",
       "      <td>-0.012652</td>\n",
       "    </tr>\n",
       "    <tr>\n",
       "      <th>6</th>\n",
       "      <td>FD_2010</td>\n",
       "      <td>0.005245</td>\n",
       "    </tr>\n",
       "    <tr>\n",
       "      <th>7</th>\n",
       "      <td>TD_2010</td>\n",
       "      <td>0.010728</td>\n",
       "    </tr>\n",
       "    <tr>\n",
       "      <th>8</th>\n",
       "      <td>FD_80</td>\n",
       "      <td>0.001486</td>\n",
       "    </tr>\n",
       "    <tr>\n",
       "      <th>9</th>\n",
       "      <td>TD_80</td>\n",
       "      <td>0.022673</td>\n",
       "    </tr>\n",
       "    <tr>\n",
       "      <th>10</th>\n",
       "      <td>FD_90</td>\n",
       "      <td>-0.015512</td>\n",
       "    </tr>\n",
       "    <tr>\n",
       "      <th>11</th>\n",
       "      <td>TD_90</td>\n",
       "      <td>-0.013048</td>\n",
       "    </tr>\n",
       "    <tr>\n",
       "      <th>12</th>\n",
       "      <td>FD_recent_1991_2020</td>\n",
       "      <td>-0.002142</td>\n",
       "    </tr>\n",
       "    <tr>\n",
       "      <th>13</th>\n",
       "      <td>TD_recent_1991_2020</td>\n",
       "      <td>-0.004121</td>\n",
       "    </tr>\n",
       "    <tr>\n",
       "      <th>14</th>\n",
       "      <td>age_yrs</td>\n",
       "      <td>0.034244</td>\n",
       "    </tr>\n",
       "  </tbody>\n",
       "</table>\n",
       "</div>"
      ],
      "text/plain": [
       "             predictors  coefficients\n",
       "0             areasq_ft      0.999912\n",
       "1                height     -0.002019\n",
       "2          FD_1981_2010     -0.003177\n",
       "3          TD_1981_2010     -0.001794\n",
       "4               FD_2000      0.004748\n",
       "5               TD_2000     -0.012652\n",
       "6               FD_2010      0.005245\n",
       "7               TD_2010      0.010728\n",
       "8                 FD_80      0.001486\n",
       "9                 TD_80      0.022673\n",
       "10                FD_90     -0.015512\n",
       "11                TD_90     -0.013048\n",
       "12  FD_recent_1991_2020     -0.002142\n",
       "13  TD_recent_1991_2020     -0.004121\n",
       "14              age_yrs      0.034244"
      ]
     },
     "execution_count": 25,
     "metadata": {},
     "output_type": "execute_result"
    }
   ],
   "source": [
    "# Displaying features with their coefficients from ridge\n",
    "\n",
    "\n",
    "imp_feat = SelectFromModel(ridgeCV, prefit = True, threshold = 0) \n",
    "\n",
    "imp_index = imp_feat.get_support()\n",
    "\n",
    "imp_feature_table = pd.DataFrame({'predictors':features_kept, 'coefficients': list(ridgeCV.coef_[0])})[imp_index]\n",
    "\n",
    "print(f'There are {len(imp_feature_table)} features')\n",
    "\n",
    "imp_feature_table"
   ]
  },
  {
   "cell_type": "code",
   "execution_count": 26,
   "id": "4d2b1420",
   "metadata": {},
   "outputs": [
    {
     "data": {
      "text/plain": [
       "([0, 1, 2, 3, 4, 5, 6, 7, 8, 9, 10, 11, 12, 13, 14],\n",
       " [Text(0, 0, ''),\n",
       "  Text(0, 0, ''),\n",
       "  Text(0, 0, ''),\n",
       "  Text(0, 0, ''),\n",
       "  Text(0, 0, ''),\n",
       "  Text(0, 0, ''),\n",
       "  Text(0, 0, ''),\n",
       "  Text(0, 0, ''),\n",
       "  Text(0, 0, ''),\n",
       "  Text(0, 0, ''),\n",
       "  Text(0, 0, ''),\n",
       "  Text(0, 0, ''),\n",
       "  Text(0, 0, ''),\n",
       "  Text(0, 0, ''),\n",
       "  Text(0, 0, '')])"
      ]
     },
     "execution_count": 26,
     "metadata": {},
     "output_type": "execute_result"
    },
    {
     "data": {
      "image/png": "[encoded data removed]",
      "text/plain": [
       "<Figure size 914.4x667.44 with 1 Axes>"
      ]
     },
     "metadata": {},
     "output_type": "display_data"
    }
   ],
   "source": [
    "plt.bar(imp_feature_table['predictors'], imp_feature_table['coefficients'])\n",
    "plt.xticks(rotation=90, fontsize=16)"
   ]
  },
  {
   "cell_type": "code",
   "execution_count": 27,
   "id": "2dd14bfc",
   "metadata": {},
   "outputs": [],
   "source": [
    "# Decision tree\n",
    "\n",
    "dt = DecisionTreeRegressor(random_state=3, max_depth=15).fit(X_train, y_train)\n",
    "y_pred_dt = dt.predict(X_test)"
   ]
  },
  {
   "cell_type": "code",
   "execution_count": 28,
   "id": "ad2eb29d",
   "metadata": {},
   "outputs": [],
   "source": [
    "# Random Forest Regressor\n",
    "\n",
    "rf = RandomForestRegressor(max_depth=15, random_state=3)\n",
    "rf.fit(X_train, y_train.reshape(len(y_train)))\n",
    "\n",
    "y_pred_rf = rf.predict(X_test)"
   ]
  },
  {
   "cell_type": "code",
   "execution_count": 29,
   "id": "c457fde9",
   "metadata": {},
   "outputs": [
    {
     "name": "stdout",
     "output_type": "stream",
     "text": [
      "MSE model_linear: 0.010462597699792917\n",
      "MSE model_ridge: 0.010463997854820134\n",
      "MSE model_dt: 0.014887890152261551\n",
      "MSE model_rf: 0.0056543034853485325\n"
     ]
    }
   ],
   "source": [
    "mse_lm = mean_squared_error(y_test, y_pred_lm)\n",
    "print(\"MSE model_linear:\", mse_lm)\n",
    "mse_ridge = mean_squared_error(y_test, y_pred_ridge)\n",
    "print(\"MSE model_ridge:\", mse_ridge)\n",
    "mse_dt = mean_squared_error(y_test, y_pred_dt)\n",
    "print(\"MSE model_dt:\", mse_dt)\n",
    "mse_rf = mean_squared_error(y_test, y_pred_rf)\n",
    "print(\"MSE model_rf:\", mse_rf)"
   ]
  },
  {
   "cell_type": "code",
   "execution_count": 33,
   "id": "02165347",
   "metadata": {},
   "outputs": [
    {
     "data": {
      "image/png": "[encoded data removed]",
      "text/plain": [
       "<Figure size 914.4x667.44 with 1 Axes>"
      ]
     },
     "metadata": {},
     "output_type": "display_data"
    }
   ],
   "source": [
    "# # Displaying features with their importances from decision tree\n",
    "\n",
    "f = pd.DataFrame({'features' : list(features_kept), 'feature_importance' : list(dt.feature_importances_ )})\n",
    "f = f.sort_values(by = 'feature_importance')\n",
    "\n",
    "sns.set(rc={'figure.figsize':(12.7,9.27)})\n",
    "\n",
    "barplot = sns.barplot(x='features', y = 'feature_importance', data = f)\n",
    "barplot.set_yscale('log')\n",
    "\n",
    "ticks = barplot.set_xticklabels(barplot.get_xticklabels(),rotation = 90)"
   ]
  },
  {
   "cell_type": "code",
   "execution_count": null,
   "id": "870e7741",
   "metadata": {},
   "outputs": [],
   "source": []
  }
 ],
 "metadata": {
  "kernelspec": {
   "display_name": "Python 3 (ipykernel)",
   "language": "python",
   "name": "python3"
  },
  "language_info": {
   "codemirror_mode": {
    "name": "ipython",
    "version": 3
   },
   "file_extension": ".py",
   "mimetype": "text/x-python",
   "name": "python",
   "nbconvert_exporter": "python",
   "pygments_lexer": "ipython3",
   "version": "3.9.13"
  }
 },
 "nbformat": 4,
 "nbformat_minor": 5
}
