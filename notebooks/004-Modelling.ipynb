{
 "cells": [
  {
   "cell_type": "code",
   "execution_count": 1,
   "id": "1e7131d2",
   "metadata": {},
   "outputs": [],
   "source": [
    "import pandas as pd\n",
    "import numpy as np\n",
    "import os\n",
    "import numpy as np\n",
    "import sklearn\n",
    "from sklearn.preprocessing import StandardScaler\n",
    "from sklearn.model_selection import train_test_split\n",
    "from sklearn.linear_model import Ridge\n",
    "from sklearn.linear_model import RidgeCV\n",
    "from sklearn.metrics import mean_squared_error\n",
    "from sklearn.linear_model import LogisticRegression\n",
    "from sklearn.feature_selection import SelectFromModel\n",
    "from sklearn.tree import DecisionTreeRegressor\n"
   ]
  },
  {
   "cell_type": "code",
   "execution_count": 2,
   "id": "4732112c",
   "metadata": {},
   "outputs": [],
   "source": [
    "path = '../data/'"
   ]
  },
  {
   "cell_type": "code",
   "execution_count": 3,
   "id": "3f9cffb3",
   "metadata": {},
   "outputs": [],
   "source": [
    "# Read data on building features from the railbelt grid\n",
    "\n",
    "building_features = pd.read_csv('../output/data_btu_railbelt.csv')"
   ]
  },
  {
   "cell_type": "code",
   "execution_count": 4,
   "id": "beb7eb3d",
   "metadata": {},
   "outputs": [],
   "source": [
    "# Drop rows with missing btu values \n",
    "building_features_nonmissing = building_features.dropna()"
   ]
  },
  {
   "cell_type": "code",
   "execution_count": 5,
   "id": "468c8ad2",
   "metadata": {},
   "outputs": [],
   "source": [
    "# Create numpy arrays for scikit learn \n",
    "\n",
    "features_dropped = ['annual_btu/sqft', 'annual_btu', 'age', 'osm_id', 'zip_code', 'zip_group']\n",
    "features_kept = building_features_nonmissing.drop(features_dropped, axis=1).columns\n",
    "\n",
    "X = np.array(building_features_nonmissing.drop(features_dropped, axis=1))\n",
    "y = np.array(building_features_nonmissing['annual_btu/sqft'])\n",
    "y = y.reshape([y.shape[0],1])"
   ]
  },
  {
   "cell_type": "code",
   "execution_count": 6,
   "id": "4064e863",
   "metadata": {},
   "outputs": [
    {
     "name": "stdout",
     "output_type": "stream",
     "text": [
      "[[-2.36647622e-01 -1.36319468e+00  6.30103054e-01 ...  6.24785266e-01\n",
      "  -4.27196025e-01 -6.55471735e-01]\n",
      " [ 5.60365535e-01 -1.40887797e+00 -1.82141606e+00 ... -1.83340954e+00\n",
      "  -8.28775438e-01  4.68359044e-01]\n",
      " [-2.49227319e-01 -1.72916194e+00 -1.62415591e+00 ... -1.64795878e+00\n",
      "   2.05128845e+00  6.74235544e-01]\n",
      " ...\n",
      " [-1.89331561e-01 -1.43274316e-02  6.30103054e-01 ...  6.24785266e-01\n",
      "  -4.27196025e-01 -1.82818238e+00]\n",
      " [-1.53472145e-01 -4.06869950e-01  6.30103054e-01 ...  6.24785266e-01\n",
      "  -4.27196025e-01 -1.82818238e+00]\n",
      " [-2.72891665e-01 -6.33809416e-01 -2.43415856e-02 ... -1.67554736e-03\n",
      "   1.67421160e+00 -1.82818238e+00]]\n"
     ]
    }
   ],
   "source": [
    "# Scale X\n",
    "\n",
    "scaler = StandardScaler()\n",
    "scaler.fit(X)\n",
    "X = scaler.transform(X)\n",
    "\n",
    "print(X)\n"
   ]
  },
  {
   "cell_type": "code",
   "execution_count": 7,
   "id": "e3473943",
   "metadata": {},
   "outputs": [
    {
     "name": "stdout",
     "output_type": "stream",
     "text": [
      "[[-0.81007095]\n",
      " [ 0.79558361]\n",
      " [ 0.97646015]\n",
      " ...\n",
      " [-2.05842429]\n",
      " [-2.05842429]\n",
      " [-2.05842429]]\n"
     ]
    }
   ],
   "source": [
    "# Scale y\n",
    "\n",
    "scaler = StandardScaler()\n",
    "scaler.fit(y)\n",
    "y = scaler.transform(y)\n",
    "\n",
    "print(y)"
   ]
  },
  {
   "cell_type": "code",
   "execution_count": 8,
   "id": "2aa9a17d",
   "metadata": {},
   "outputs": [],
   "source": [
    "# Divide intro training and testing datasets, with a 30-70 ratio\n",
    "X_train, X_test, y_train, y_test = train_test_split(X, y, test_size = 0.3, random_state = 1)"
   ]
  },
  {
   "cell_type": "code",
   "execution_count": 9,
   "id": "f81d3d90",
   "metadata": {},
   "outputs": [
    {
     "name": "stdout",
     "output_type": "stream",
     "text": [
      "[[ 8.56277609e-04 -1.12965618e-02  7.28141101e-02  4.72528207e-02\n",
      "  -2.98430433e-01 -3.15494522e-01 -2.05989233e-01 -2.25311240e-01\n",
      "   7.23909447e-02  4.65816615e-02  4.31942986e-01  4.39683824e-01\n",
      "  -1.51642909e-02 -6.33273400e-02  1.00263184e+00]]\n"
     ]
    }
   ],
   "source": [
    "# Ridge Regression\n",
    "\n",
    "ridge = Ridge(alpha=1.0)\n",
    "ridge.fit(X_train, y_train)\n",
    "\n",
    "y_pred_ridge = ridge.predict(X_test)\n",
    "coeffs = ridge.coef_\n",
    "print(coeffs)"
   ]
  },
  {
   "cell_type": "code",
   "execution_count": 10,
   "id": "11db11c7",
   "metadata": {},
   "outputs": [
    {
     "name": "stdout",
     "output_type": "stream",
     "text": [
      "[[ 9.08750543e-04 -1.14528383e-02 -8.93330760e-02  6.58325967e-02\n",
      "  -1.33542280e+00 -3.39402293e-01  5.29952703e-01 -3.13337419e-01\n",
      "   2.10510440e-01  1.97239839e-02  8.13943116e-01  5.46500935e-01\n",
      "   1.77453492e-03 -7.42426385e-02  1.00269230e+00]]\n"
     ]
    }
   ],
   "source": [
    "# Ridge Regression with Cross Validation\n",
    "\n",
    "ridgeCV = RidgeCV(cv=10).fit(X_train, y_train)\n",
    "\n",
    "y_pred_ridgeCV = ridgeCV.predict(X_test)\n",
    "coeffs = ridgeCV.coef_\n",
    "print(coeffs)"
   ]
  },
  {
   "cell_type": "code",
   "execution_count": 11,
   "id": "44326d4d",
   "metadata": {},
   "outputs": [],
   "source": [
    "# Decision tree\n",
    "\n",
    "dt = DecisionTreeRegressor(random_state=3).fit(X_train, y_train)\n",
    "y_pred_dt = dt.predict(X_test)"
   ]
  },
  {
   "cell_type": "code",
   "execution_count": 12,
   "id": "26f5a628",
   "metadata": {},
   "outputs": [
    {
     "name": "stdout",
     "output_type": "stream",
     "text": [
      "MSE model_ridge: 0.006976936540899352\n",
      "MSE model_ridgeCV: 0.00697622019169604\n",
      "MSE model_dt: 2.916655167684027e-07\n"
     ]
    }
   ],
   "source": [
    "\n",
    "mse_ridge = mean_squared_error(y_test, y_pred_ridge)\n",
    "print(\"MSE model_ridge:\", mse_ridge)\n",
    "mse_ridgeCV = mean_squared_error(y_test, y_pred_ridgeCV)\n",
    "print(\"MSE model_ridgeCV:\", mse_ridgeCV)\n",
    "mse_dt = mean_squared_error(y_test, y_pred_dt)\n",
    "print(\"MSE model_dt:\", mse_dt)"
   ]
  },
  {
   "cell_type": "code",
   "execution_count": 13,
   "id": "a826122c",
   "metadata": {},
   "outputs": [
    {
     "name": "stdout",
     "output_type": "stream",
     "text": [
      "There are 15 features\n"
     ]
    },
    {
     "data": {
      "text/html": [
       "<div>\n",
       "<style scoped>\n",
       "    .dataframe tbody tr th:only-of-type {\n",
       "        vertical-align: middle;\n",
       "    }\n",
       "\n",
       "    .dataframe tbody tr th {\n",
       "        vertical-align: top;\n",
       "    }\n",
       "\n",
       "    .dataframe thead th {\n",
       "        text-align: right;\n",
       "    }\n",
       "</style>\n",
       "<table border=\"1\" class=\"dataframe\">\n",
       "  <thead>\n",
       "    <tr style=\"text-align: right;\">\n",
       "      <th></th>\n",
       "      <th>important predictors</th>\n",
       "      <th>coefficients</th>\n",
       "    </tr>\n",
       "  </thead>\n",
       "  <tbody>\n",
       "    <tr>\n",
       "      <th>0</th>\n",
       "      <td>areasq_ft</td>\n",
       "      <td>0.000856</td>\n",
       "    </tr>\n",
       "    <tr>\n",
       "      <th>1</th>\n",
       "      <td>height</td>\n",
       "      <td>-0.011297</td>\n",
       "    </tr>\n",
       "    <tr>\n",
       "      <th>2</th>\n",
       "      <td>FD_1981_2010</td>\n",
       "      <td>0.072814</td>\n",
       "    </tr>\n",
       "    <tr>\n",
       "      <th>3</th>\n",
       "      <td>TD_1981_2010</td>\n",
       "      <td>0.047253</td>\n",
       "    </tr>\n",
       "    <tr>\n",
       "      <th>4</th>\n",
       "      <td>FD_2000</td>\n",
       "      <td>-0.298430</td>\n",
       "    </tr>\n",
       "    <tr>\n",
       "      <th>5</th>\n",
       "      <td>TD_2000</td>\n",
       "      <td>-0.315495</td>\n",
       "    </tr>\n",
       "    <tr>\n",
       "      <th>6</th>\n",
       "      <td>FD_2010</td>\n",
       "      <td>-0.205989</td>\n",
       "    </tr>\n",
       "    <tr>\n",
       "      <th>7</th>\n",
       "      <td>TD_2010</td>\n",
       "      <td>-0.225311</td>\n",
       "    </tr>\n",
       "    <tr>\n",
       "      <th>8</th>\n",
       "      <td>FD_80</td>\n",
       "      <td>0.072391</td>\n",
       "    </tr>\n",
       "    <tr>\n",
       "      <th>9</th>\n",
       "      <td>TD_80</td>\n",
       "      <td>0.046582</td>\n",
       "    </tr>\n",
       "    <tr>\n",
       "      <th>10</th>\n",
       "      <td>FD_90</td>\n",
       "      <td>0.431943</td>\n",
       "    </tr>\n",
       "    <tr>\n",
       "      <th>11</th>\n",
       "      <td>TD_90</td>\n",
       "      <td>0.439684</td>\n",
       "    </tr>\n",
       "    <tr>\n",
       "      <th>12</th>\n",
       "      <td>FD_recent_1991_2020</td>\n",
       "      <td>-0.015164</td>\n",
       "    </tr>\n",
       "    <tr>\n",
       "      <th>13</th>\n",
       "      <td>TD_recent_1991_2020</td>\n",
       "      <td>-0.063327</td>\n",
       "    </tr>\n",
       "    <tr>\n",
       "      <th>14</th>\n",
       "      <td>age_yrs</td>\n",
       "      <td>1.002632</td>\n",
       "    </tr>\n",
       "  </tbody>\n",
       "</table>\n",
       "</div>"
      ],
      "text/plain": [
       "   important predictors  coefficients\n",
       "0             areasq_ft      0.000856\n",
       "1                height     -0.011297\n",
       "2          FD_1981_2010      0.072814\n",
       "3          TD_1981_2010      0.047253\n",
       "4               FD_2000     -0.298430\n",
       "5               TD_2000     -0.315495\n",
       "6               FD_2010     -0.205989\n",
       "7               TD_2010     -0.225311\n",
       "8                 FD_80      0.072391\n",
       "9                 TD_80      0.046582\n",
       "10                FD_90      0.431943\n",
       "11                TD_90      0.439684\n",
       "12  FD_recent_1991_2020     -0.015164\n",
       "13  TD_recent_1991_2020     -0.063327\n",
       "14              age_yrs      1.002632"
      ]
     },
     "execution_count": 13,
     "metadata": {},
     "output_type": "execute_result"
    }
   ],
   "source": [
    "# Displaying features with their coefficients from ridge\n",
    "\n",
    "\n",
    "imp_feat = SelectFromModel(ridge, prefit = True, threshold = 0) \n",
    "\n",
    "imp_index = imp_feat.get_support()\n",
    "\n",
    "imp_feature_table = pd.DataFrame({'important predictors':features_kept, 'coefficients': list(ridge.coef_[0])})[imp_index]\n",
    "\n",
    "print(f'There are {len(imp_feature_table)} features')\n",
    "\n",
    "imp_feature_table"
   ]
  },
  {
   "cell_type": "code",
   "execution_count": 14,
   "id": "6cfb4be2",
   "metadata": {},
   "outputs": [],
   "source": [
    "# # Displaying features with their importances from decision tree\n",
    "\n",
    "# f = pd.DataFrame({'features' : list(features_kept), 'feature_importance' : list(dt.feature_importances_ )})\n",
    "# f = f.sort_values(by = 'feature_importance')\n",
    "\n",
    "# sns.set(rc={'figure.figsize':(12.7,9.27)})\n",
    "\n",
    "# barplot = sns.barplot(x='features', y = 'feature_importance', data = f)\n",
    "\n",
    "# ticks = barplot.set_xticklabels(barplot.get_xticklabels(),rotation = 90)"
   ]
  }
 ],
 "metadata": {
  "kernelspec": {
   "display_name": "Python 3 (ipykernel)",
   "language": "python",
   "name": "python3"
  },
  "language_info": {
   "codemirror_mode": {
    "name": "ipython",
    "version": 3
   },
   "file_extension": ".py",
   "mimetype": "text/x-python",
   "name": "python",
   "nbconvert_exporter": "python",
   "pygments_lexer": "ipython3",
   "version": "3.9.13"
  }
 },
 "nbformat": 4,
 "nbformat_minor": 5
}
