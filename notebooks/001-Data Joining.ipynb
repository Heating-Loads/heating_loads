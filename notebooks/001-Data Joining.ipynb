{
 "cells": [
  {
   "cell_type": "code",
   "execution_count": 17,
   "id": "37ab9cb0",
   "metadata": {},
   "outputs": [],
   "source": [
    "import pandas as pd\n",
    "import numpy as np\n",
    "import os"
   ]
  },
  {
   "cell_type": "code",
   "execution_count": 18,
   "id": "1db2510a",
   "metadata": {},
   "outputs": [],
   "source": [
    "path = '../data/'"
   ]
  },
  {
   "cell_type": "code",
   "execution_count": 19,
   "id": "cd406104",
   "metadata": {},
   "outputs": [],
   "source": [
    "files = os.listdir(path)"
   ]
  },
  {
   "cell_type": "code",
   "execution_count": 20,
   "id": "53191224",
   "metadata": {},
   "outputs": [],
   "source": [
    "# create dictionary of columns to keep for each data file\n",
    "climate_keep = ['FD_sum_mean', 'TD_sum_mean', 'osm_id', 'zip_code', 'zip_group']\n",
    "\n",
    "column_dict = {}\n",
    "column_dict['climate_reduced_railbelt_1981_2010.csv'] = climate_keep\n",
    "column_dict['climate_reduced_railbelt_2000.csv'] = climate_keep\n",
    "column_dict['climate_reduced_railbelt_2010.csv'] = climate_keep\n",
    "column_dict['climate_reduced_railbelt_90.csv'] = climate_keep\n",
    "column_dict['climate_reduced_railbelt_recent_1991_2020.csv'] = climate_keep\n",
    "column_dict['climate_reduced_railbelt_80.csv'] = climate_keep\n",
    "column_dict['building_height_and_sqft_railbelt.csv'] = ['areasq_ft', 'height', 'osm_id', 'zip_code', 'zip_group']\n"
   ]
  },
  {
   "cell_type": "code",
   "execution_count": 21,
   "id": "4f3f8e6c",
   "metadata": {},
   "outputs": [],
   "source": [
    "def drop(csv_name, path, keep_cols):\n",
    "    dataframe = pd.read_csv(path + csv_name)\n",
    "    no_dups = dataframe.drop_duplicates('osm_id')\n",
    "    cols_to_keep  = no_dups[keep_cols]\n",
    "    \n",
    "    return cols_to_keep"
   ]
  },
  {
   "cell_type": "code",
   "execution_count": 22,
   "id": "d0d52eba",
   "metadata": {},
   "outputs": [],
   "source": [
    "subset_dataframes = []\n",
    "for file in files:\n",
    "    if file in column_dict.keys():\n",
    "        subset_df = drop(file, path, column_dict[file])\n",
    "        subset_dataframes.append(subset_df)\n"
   ]
  },
  {
   "cell_type": "code",
   "execution_count": 24,
   "id": "aa13c54d",
   "metadata": {},
   "outputs": [],
   "source": [
    "# check unique osm_ids\n",
    "for df in subset_dataframes:\n",
    "    assert len(df['osm_id'].unique()) ==  len(df['osm_id'])"
   ]
  },
  {
   "cell_type": "code",
   "execution_count": null,
   "id": "7613ecb0",
   "metadata": {},
   "outputs": [],
   "source": []
  }
 ],
 "metadata": {
  "kernelspec": {
   "display_name": "Python 3 (ipykernel)",
   "language": "python",
   "name": "python3"
  },
  "language_info": {
   "codemirror_mode": {
    "name": "ipython",
    "version": 3
   },
   "file_extension": ".py",
   "mimetype": "text/x-python",
   "name": "python",
   "nbconvert_exporter": "python",
   "pygments_lexer": "ipython3",
   "version": "3.9.7"
  }
 },
 "nbformat": 4,
 "nbformat_minor": 5
}
