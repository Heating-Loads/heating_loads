{
 "cells": [
  {
   "cell_type": "code",
   "execution_count": 1,
   "id": "37ab9cb0",
   "metadata": {},
   "outputs": [],
   "source": [
    "import pandas as pd\n",
    "import numpy as np\n",
    "import os"
   ]
  },
  {
   "cell_type": "code",
   "execution_count": 2,
   "id": "1db2510a",
   "metadata": {},
   "outputs": [],
   "source": [
    "path = '../data/'"
   ]
  },
  {
   "cell_type": "code",
   "execution_count": 3,
   "id": "cd406104",
   "metadata": {},
   "outputs": [
    {
     "data": {
      "text/plain": [
       "['building_age_variables_railbelt.csv',\n",
       " 'building_height_and_sqft_railbelt.csv',\n",
       " 'building_height_railbelt.csv',\n",
       " 'climate_reduced_AK_1981_2010.csv',\n",
       " 'climate_reduced_railbelt_1981_2010.csv',\n",
       " 'climate_reduced_railbelt_2000.csv',\n",
       " 'climate_reduced_railbelt_2010.csv',\n",
       " 'climate_reduced_railbelt_80.csv',\n",
       " 'climate_reduced_railbelt_90.csv',\n",
       " 'climate_reduced_railbelt_recent_1991_2020.csv']"
      ]
     },
     "execution_count": 3,
     "metadata": {},
     "output_type": "execute_result"
    }
   ],
   "source": [
    "files = os.listdir(path)\n",
    "files"
   ]
  },
  {
   "cell_type": "code",
   "execution_count": 4,
   "id": "53191224",
   "metadata": {},
   "outputs": [],
   "source": [
    "# create dictionary of columns to keep for each data file\n",
    "climate_keep = ['FD_sum_mean', 'TD_sum_mean', 'osm_id']\n",
    "\n",
    "column_dict = {}\n",
    "column_dict['climate_reduced_railbelt_1981_2010.csv'] = climate_keep\n",
    "column_dict['climate_reduced_railbelt_2000.csv'] = climate_keep\n",
    "column_dict['climate_reduced_railbelt_2010.csv'] = climate_keep\n",
    "column_dict['climate_reduced_railbelt_90.csv'] = climate_keep\n",
    "column_dict['climate_reduced_railbelt_recent_1991_2020.csv'] = climate_keep\n",
    "column_dict['climate_reduced_railbelt_80.csv'] = climate_keep\n",
    "column_dict['building_height_and_sqft_railbelt.csv'] = ['areasq_ft', 'height', 'osm_id', 'zip_code', 'zip_group']\n",
    "column_dict['building_age_variables_railbelt.csv'] = ['age', 'osm_id']\n"
   ]
  },
  {
   "cell_type": "code",
   "execution_count": 5,
   "id": "4f3f8e6c",
   "metadata": {},
   "outputs": [],
   "source": [
    "def drop(csv_name, path, keep_cols):\n",
    "    dataframe = pd.read_csv(path + csv_name)\n",
    "    no_dups = dataframe.drop_duplicates('osm_id')\n",
    "    cols_to_keep  = no_dups[keep_cols]   \n",
    "    return cols_to_keep"
   ]
  },
  {
   "cell_type": "code",
   "execution_count": 6,
   "id": "d0d52eba",
   "metadata": {},
   "outputs": [],
   "source": [
    "subset_dataframes = []\n",
    "for file in files:\n",
    "    if file in column_dict.keys():\n",
    "        subset_df = drop(file, path, column_dict[file])\n",
    "        if file.startswith(\"climate_reduced\"):\n",
    "            col_suffix = file.split('_railbelt_')[1].strip('.csv')\n",
    "            subset_df.rename(columns={ \"FD_sum_mean\": f\"FD_{col_suffix}\", \"TD_sum_mean\": f\"TD_{col_suffix}\" }, inplace = True)\n",
    "        subset_dataframes.append(subset_df)\n"
   ]
  },
  {
   "cell_type": "code",
   "execution_count": 7,
   "id": "aa13c54d",
   "metadata": {},
   "outputs": [
    {
     "name": "stdout",
     "output_type": "stream",
     "text": [
      "age       0.0\n",
      "osm_id    0.0\n",
      "dtype: float64\n",
      "areasq_ft    0.000000\n",
      "height       0.000046\n",
      "osm_id       0.000000\n",
      "zip_code     0.000000\n",
      "zip_group    0.000000\n",
      "dtype: float64\n",
      "FD_1981_2010    0.000009\n",
      "TD_1981_2010    0.000009\n",
      "osm_id          0.000000\n",
      "dtype: float64\n",
      "FD_2000    0.000009\n",
      "TD_2000    0.000009\n",
      "osm_id     0.000000\n",
      "dtype: float64\n",
      "FD_2010    0.000009\n",
      "TD_2010    0.000009\n",
      "osm_id     0.000000\n",
      "dtype: float64\n",
      "FD_80     0.000009\n",
      "TD_80     0.000009\n",
      "osm_id    0.000000\n",
      "dtype: float64\n",
      "FD_90     0.000009\n",
      "TD_90     0.000009\n",
      "osm_id    0.000000\n",
      "dtype: float64\n",
      "FD_recent_1991_2020    0.000009\n",
      "TD_recent_1991_2020    0.000009\n",
      "osm_id                 0.000000\n",
      "dtype: float64\n"
     ]
    }
   ],
   "source": [
    "# check missing\n",
    "for df in subset_dataframes:\n",
    "    assert len(df['osm_id'].unique()) ==  len(df['osm_id'])\n",
    "    print(df.isnull().sum()/ len(df))"
   ]
  },
  {
   "cell_type": "code",
   "execution_count": 8,
   "id": "7613ecb0",
   "metadata": {},
   "outputs": [],
   "source": [
    "# joining dataframes\n",
    "\n",
    "merged_df = subset_dataframes[files.index('building_age_variables_railbelt.csv')]\n",
    "other_df = list(subset_dataframes)\n",
    "other_df.pop(files.index('building_age_variables_railbelt.csv'))\n",
    "\n",
    "for df in other_df:\n",
    "    merged_df = pd.merge(merged_df, df, on = 'osm_id')\n",
    "    "
   ]
  },
  {
   "cell_type": "code",
   "execution_count": 9,
   "id": "332bc74b",
   "metadata": {},
   "outputs": [
    {
     "data": {
      "text/html": [
       "<div>\n",
       "<style scoped>\n",
       "    .dataframe tbody tr th:only-of-type {\n",
       "        vertical-align: middle;\n",
       "    }\n",
       "\n",
       "    .dataframe tbody tr th {\n",
       "        vertical-align: top;\n",
       "    }\n",
       "\n",
       "    .dataframe thead th {\n",
       "        text-align: right;\n",
       "    }\n",
       "</style>\n",
       "<table border=\"1\" class=\"dataframe\">\n",
       "  <thead>\n",
       "    <tr style=\"text-align: right;\">\n",
       "      <th></th>\n",
       "      <th>age</th>\n",
       "      <th>osm_id</th>\n",
       "      <th>areasq_ft</th>\n",
       "      <th>height</th>\n",
       "      <th>zip_code</th>\n",
       "      <th>zip_group</th>\n",
       "      <th>FD_1981_2010</th>\n",
       "      <th>TD_1981_2010</th>\n",
       "      <th>FD_2000</th>\n",
       "      <th>TD_2000</th>\n",
       "      <th>FD_2010</th>\n",
       "      <th>TD_2010</th>\n",
       "      <th>FD_80</th>\n",
       "      <th>TD_80</th>\n",
       "      <th>FD_90</th>\n",
       "      <th>TD_90</th>\n",
       "      <th>FD_recent_1991_2020</th>\n",
       "      <th>TD_recent_1991_2020</th>\n",
       "    </tr>\n",
       "  </thead>\n",
       "  <tbody>\n",
       "    <tr>\n",
       "      <th>0</th>\n",
       "      <td>2004.0</td>\n",
       "      <td>485655552</td>\n",
       "      <td>1011.819332</td>\n",
       "      <td>-1.156223</td>\n",
       "      <td>99507</td>\n",
       "      <td>9950</td>\n",
       "      <td>-992.202746</td>\n",
       "      <td>1847.074732</td>\n",
       "      <td>-941.482003</td>\n",
       "      <td>1945.692756</td>\n",
       "      <td>-765.664519</td>\n",
       "      <td>2051.646462</td>\n",
       "      <td>-998.157617</td>\n",
       "      <td>1769.070361</td>\n",
       "      <td>-1036.968618</td>\n",
       "      <td>1826.461078</td>\n",
       "      <td>-914.705047</td>\n",
       "      <td>1941.266765</td>\n",
       "    </tr>\n",
       "    <tr>\n",
       "      <th>1</th>\n",
       "      <td>1994.0</td>\n",
       "      <td>821173300</td>\n",
       "      <td>943.256095</td>\n",
       "      <td>0.272816</td>\n",
       "      <td>99686</td>\n",
       "      <td>9968</td>\n",
       "      <td>-1832.949579</td>\n",
       "      <td>814.575094</td>\n",
       "      <td>-1804.555087</td>\n",
       "      <td>890.371345</td>\n",
       "      <td>-1494.731646</td>\n",
       "      <td>901.032579</td>\n",
       "      <td>-1854.483655</td>\n",
       "      <td>760.098123</td>\n",
       "      <td>-1839.809995</td>\n",
       "      <td>793.255815</td>\n",
       "      <td>-1713.032242</td>\n",
       "      <td>861.553246</td>\n",
       "    </tr>\n",
       "    <tr>\n",
       "      <th>2</th>\n",
       "      <td>1997.0</td>\n",
       "      <td>821210009</td>\n",
       "      <td>825.083952</td>\n",
       "      <td>0.406550</td>\n",
       "      <td>99686</td>\n",
       "      <td>9968</td>\n",
       "      <td>-1832.949579</td>\n",
       "      <td>814.575094</td>\n",
       "      <td>-1804.555087</td>\n",
       "      <td>890.371345</td>\n",
       "      <td>-1494.731646</td>\n",
       "      <td>901.032579</td>\n",
       "      <td>-1854.483655</td>\n",
       "      <td>760.098123</td>\n",
       "      <td>-1839.809995</td>\n",
       "      <td>793.255815</td>\n",
       "      <td>-1713.032242</td>\n",
       "      <td>861.553246</td>\n",
       "    </tr>\n",
       "    <tr>\n",
       "      <th>3</th>\n",
       "      <td>1995.0</td>\n",
       "      <td>821210030</td>\n",
       "      <td>597.375132</td>\n",
       "      <td>0.529883</td>\n",
       "      <td>99686</td>\n",
       "      <td>9968</td>\n",
       "      <td>-1832.949579</td>\n",
       "      <td>814.575094</td>\n",
       "      <td>-1804.555087</td>\n",
       "      <td>890.371345</td>\n",
       "      <td>-1494.731646</td>\n",
       "      <td>901.032579</td>\n",
       "      <td>-1854.483655</td>\n",
       "      <td>760.098123</td>\n",
       "      <td>-1839.809995</td>\n",
       "      <td>793.255815</td>\n",
       "      <td>-1713.032242</td>\n",
       "      <td>861.553246</td>\n",
       "    </tr>\n",
       "    <tr>\n",
       "      <th>4</th>\n",
       "      <td>1994.0</td>\n",
       "      <td>821210032</td>\n",
       "      <td>307.360121</td>\n",
       "      <td>-0.293179</td>\n",
       "      <td>99686</td>\n",
       "      <td>9968</td>\n",
       "      <td>-1832.949579</td>\n",
       "      <td>814.575094</td>\n",
       "      <td>-1804.555087</td>\n",
       "      <td>890.371345</td>\n",
       "      <td>-1494.731646</td>\n",
       "      <td>901.032579</td>\n",
       "      <td>-1854.483655</td>\n",
       "      <td>760.098123</td>\n",
       "      <td>-1839.809995</td>\n",
       "      <td>793.255815</td>\n",
       "      <td>-1713.032242</td>\n",
       "      <td>861.553246</td>\n",
       "    </tr>\n",
       "  </tbody>\n",
       "</table>\n",
       "</div>"
      ],
      "text/plain": [
       "      age     osm_id    areasq_ft    height  zip_code  zip_group  \\\n",
       "0  2004.0  485655552  1011.819332 -1.156223     99507       9950   \n",
       "1  1994.0  821173300   943.256095  0.272816     99686       9968   \n",
       "2  1997.0  821210009   825.083952  0.406550     99686       9968   \n",
       "3  1995.0  821210030   597.375132  0.529883     99686       9968   \n",
       "4  1994.0  821210032   307.360121 -0.293179     99686       9968   \n",
       "\n",
       "   FD_1981_2010  TD_1981_2010      FD_2000      TD_2000      FD_2010  \\\n",
       "0   -992.202746   1847.074732  -941.482003  1945.692756  -765.664519   \n",
       "1  -1832.949579    814.575094 -1804.555087   890.371345 -1494.731646   \n",
       "2  -1832.949579    814.575094 -1804.555087   890.371345 -1494.731646   \n",
       "3  -1832.949579    814.575094 -1804.555087   890.371345 -1494.731646   \n",
       "4  -1832.949579    814.575094 -1804.555087   890.371345 -1494.731646   \n",
       "\n",
       "       TD_2010        FD_80        TD_80        FD_90        TD_90  \\\n",
       "0  2051.646462  -998.157617  1769.070361 -1036.968618  1826.461078   \n",
       "1   901.032579 -1854.483655   760.098123 -1839.809995   793.255815   \n",
       "2   901.032579 -1854.483655   760.098123 -1839.809995   793.255815   \n",
       "3   901.032579 -1854.483655   760.098123 -1839.809995   793.255815   \n",
       "4   901.032579 -1854.483655   760.098123 -1839.809995   793.255815   \n",
       "\n",
       "   FD_recent_1991_2020  TD_recent_1991_2020  \n",
       "0          -914.705047          1941.266765  \n",
       "1         -1713.032242           861.553246  \n",
       "2         -1713.032242           861.553246  \n",
       "3         -1713.032242           861.553246  \n",
       "4         -1713.032242           861.553246  "
      ]
     },
     "execution_count": 9,
     "metadata": {},
     "output_type": "execute_result"
    }
   ],
   "source": [
    "merged_df.head(5)"
   ]
  },
  {
   "cell_type": "code",
   "execution_count": 10,
   "id": "13fcd28d",
   "metadata": {},
   "outputs": [],
   "source": [
    "merged_df.to_csv('../output/joined_data_missing.csv')"
   ]
  },
  {
   "cell_type": "code",
   "execution_count": 11,
   "id": "5319ac7b",
   "metadata": {},
   "outputs": [
    {
     "name": "stdout",
     "output_type": "stream",
     "text": [
      "age                    0.000000\n",
      "osm_id                 0.000000\n",
      "areasq_ft              0.000000\n",
      "height                 0.000046\n",
      "zip_code               0.000000\n",
      "zip_group              0.000000\n",
      "FD_1981_2010           0.000009\n",
      "TD_1981_2010           0.000009\n",
      "FD_2000                0.000009\n",
      "TD_2000                0.000009\n",
      "FD_2010                0.000009\n",
      "TD_2010                0.000009\n",
      "FD_80                  0.000009\n",
      "TD_80                  0.000009\n",
      "FD_90                  0.000009\n",
      "TD_90                  0.000009\n",
      "FD_recent_1991_2020    0.000009\n",
      "TD_recent_1991_2020    0.000009\n",
      "dtype: float64\n"
     ]
    }
   ],
   "source": [
    "print(merged_df.isnull().sum()/ len(merged_df))"
   ]
  },
  {
   "cell_type": "code",
   "execution_count": 12,
   "id": "67b68ac9",
   "metadata": {},
   "outputs": [],
   "source": [
    "merged_df.dropna(inplace=True)\n",
    "\n",
    "merged_df.to_csv('../output/joined_data_nonmissing.csv')"
   ]
  }
 ],
 "metadata": {
  "kernelspec": {
   "display_name": "Python 3 (ipykernel)",
   "language": "python",
   "name": "python3"
  },
  "language_info": {
   "codemirror_mode": {
    "name": "ipython",
    "version": 3
   },
   "file_extension": ".py",
   "mimetype": "text/x-python",
   "name": "python",
   "nbconvert_exporter": "python",
   "pygments_lexer": "ipython3",
   "version": "3.9.13"
  }
 },
 "nbformat": 4,
 "nbformat_minor": 5
}
