{
 "cells": [
  {
   "cell_type": "code",
   "execution_count": 81,
   "id": "ac368ff5",
   "metadata": {},
   "outputs": [],
   "source": [
    "import os\n",
    "import pandas as pd\n",
    "import matplotlib.pyplot as plt\n",
    "import numpy as np"
   ]
  },
  {
   "cell_type": "code",
   "execution_count": 82,
   "id": "f12c9fbf",
   "metadata": {},
   "outputs": [],
   "source": [
    "# read in data and get square footage of buildings\n",
    "btus = pd.read_csv('/Users/Maddie/Desktop/DSSG/heating_loads/BTU_regression_estimates_Anchorage.csv')\n",
    "sq_ft = np.sort(np.array(btus['sq_ft'].to_list()))\n",
    "building_inds = np.arange(len(sq_ft))\n",
    "btus['unique_ind'] = building_inds"
   ]
  },
  {
   "cell_type": "code",
   "execution_count": 83,
   "id": "098af3d9",
   "metadata": {},
   "outputs": [],
   "source": [
    "# specify bin settings\n",
    "bin_range = 1000 # max square foot difference in bin\n",
    "num_bins = int((max(sq_ft) - min(sq_ft))/bin_range) + 1 # total number of bins\n",
    "\n",
    "# create bins\n",
    "bins = {}\n",
    "for i in range(num_bins):\n",
    "    bins[i] = []\n",
    "    \n",
    "# fill bins\n",
    "for i in range(len(sq_ft)):\n",
    "    building = sq_ft[i]\n",
    "    building_ind = building_inds[i]\n",
    "    bin_ = int(building/bin_range)\n",
    "    bins[bin_].append(building_ind)\n",
    "\n",
    "# get count of buildings in each bin\n",
    "bin_count = np.zeros(num_bins)\n",
    "for i in range(num_bins):\n",
    "    bin_count[i] = len(bins[i])"
   ]
  },
  {
   "cell_type": "code",
   "execution_count": 84,
   "id": "7a28f913",
   "metadata": {},
   "outputs": [
    {
     "data": {
      "text/plain": [
       "[<matplotlib.lines.Line2D at 0x7faaec9bbb80>]"
      ]
     },
     "execution_count": 84,
     "metadata": {},
     "output_type": "execute_result"
    },
    {
     "data": {
      "image/png": "[encoded data removed]",
      "text/plain": [
       "<Figure size 432x288 with 1 Axes>"
      ]
     },
     "metadata": {
      "needs_background": "light"
     },
     "output_type": "display_data"
    }
   ],
   "source": [
    "plt.plot(bin_count) # number of buildings per bin"
   ]
  },
  {
   "cell_type": "code",
   "execution_count": 85,
   "id": "35079b21",
   "metadata": {},
   "outputs": [],
   "source": [
    "# generate bin probabilities for sampling\n",
    "bin_probs = bin_count/sum(bin_count)\n",
    "\n",
    "# choose bins based on bin probabilities\n",
    "bins_to_sample = np.random.choice(np.arange(num_bins),  len(sq_ft),  p=bin_probs)\n",
    "\n",
    "# train, val, test split\n",
    "num_train = int(.6 *len(sq_ft))\n",
    "num_val = int(.2 *len(sq_ft))\n",
    "num_test = len(sq_ft) - num_train - num_val\n",
    "\n",
    "train_bins = bins_to_sample[:num_train]\n",
    "val_bins = bins_to_sample[num_train:num_val]\n",
    "test_bins = bins_to_sample[num_val:]\n"
   ]
  },
  {
   "cell_type": "code",
   "execution_count": 86,
   "id": "4d891a89",
   "metadata": {},
   "outputs": [
    {
     "ename": "ValueError",
     "evalue": "'a' cannot be empty unless no samples are taken",
     "output_type": "error",
     "traceback": [
      "\u001b[0;31m---------------------------------------------------------------------------\u001b[0m",
      "\u001b[0;31mValueError\u001b[0m                                Traceback (most recent call last)",
      "Input \u001b[0;32mIn [86]\u001b[0m, in \u001b[0;36m<cell line: 3>\u001b[0;34m()\u001b[0m\n\u001b[1;32m      2\u001b[0m sampled_buildings_train \u001b[38;5;241m=\u001b[39m []\n\u001b[1;32m      3\u001b[0m \u001b[38;5;28;01mfor\u001b[39;00m bin_ind \u001b[38;5;129;01min\u001b[39;00m train_bins:\n\u001b[0;32m----> 4\u001b[0m     choice \u001b[38;5;241m=\u001b[39m \u001b[43mnp\u001b[49m\u001b[38;5;241;43m.\u001b[39;49m\u001b[43mrandom\u001b[49m\u001b[38;5;241;43m.\u001b[39;49m\u001b[43mchoice\u001b[49m\u001b[43m(\u001b[49m\u001b[43mbins\u001b[49m\u001b[43m[\u001b[49m\u001b[43mbin_ind\u001b[49m\u001b[43m]\u001b[49m\u001b[43m)\u001b[49m\n\u001b[1;32m      5\u001b[0m     sampled_buildings_train\u001b[38;5;241m.\u001b[39mappend(choice)\n\u001b[1;32m      7\u001b[0m     \u001b[38;5;66;03m# remove it from the bins so it won't be sampled in val or test\u001b[39;00m\n",
      "File \u001b[0;32mmtrand.pyx:915\u001b[0m, in \u001b[0;36mnumpy.random.mtrand.RandomState.choice\u001b[0;34m()\u001b[0m\n",
      "\u001b[0;31mValueError\u001b[0m: 'a' cannot be empty unless no samples are taken"
     ]
    }
   ],
   "source": [
    "# now randomly choose buildings from bins for train\n",
    "sampled_buildings_train = []\n",
    "for bin_ind in train_bins:\n",
    "    choice = np.random.choice(bins[bin_ind])\n",
    "    sampled_buildings_train.append(choice)\n",
    "    \n",
    "    # remove it from the bins so it won't be sampled in val or test\n",
    "    bins[bin_ind].remove(choice)\n",
    "    \n",
    "# now randomly choose buildings from bins for val\n",
    "sampled_buildings_val = []\n",
    "for bin_ind in val_bins:\n",
    "    choice = np.random.choice(bins[bin_ind])\n",
    "    sampled_buildings_val.append(choice)\n",
    "    \n",
    "    # remove it from the bins so it won't be sampled in test\n",
    "    bins[bin_ind].remove(choice)\n",
    "\n",
    "# now randomly choose buildings from bins for test\n",
    "sampled_buildings_test = []\n",
    "for bin_ind in val_bins:\n",
    "    choice = np.random.choice(bins[bin_ind])\n",
    "    sampled_buildings_test.append(choice)\n"
   ]
  },
  {
   "cell_type": "code",
   "execution_count": null,
   "id": "9711631a",
   "metadata": {},
   "outputs": [],
   "source": [
    "# TODO: are we sampling from bins too much?"
   ]
  }
 ],
 "metadata": {
  "kernelspec": {
   "display_name": "Python 3 (ipykernel)",
   "language": "python",
   "name": "python3"
  },
  "language_info": {
   "codemirror_mode": {
    "name": "ipython",
    "version": 3
   },
   "file_extension": ".py",
   "mimetype": "text/x-python",
   "name": "python",
   "nbconvert_exporter": "python",
   "pygments_lexer": "ipython3",
   "version": "3.9.7"
  }
 },
 "nbformat": 4,
 "nbformat_minor": 5
}
