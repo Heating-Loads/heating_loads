{
 "cells": [
  {
   "cell_type": "code",
   "execution_count": 2,
   "id": "a018938f",
   "metadata": {},
   "outputs": [
    {
     "name": "stdout",
     "output_type": "stream",
     "text": [
      "Converting Earth Engine JavaScripts to Python scripts...\n",
      "\n",
      "Processing 1/1: /Users/ssoltani/Desktop/DSSG/dem_validation.js\n",
      "Python scripts saved at: /Users/ssoltani/Desktop/DSSG\n"
     ]
    }
   ],
   "source": [
    "path = \"/Users/ssoltani/Desktop/DSSG\"\n",
    "import geemap as ee\n",
    "\n",
    "import os\n",
    "from geemap.conversion import *\n",
    "\n",
    "\n",
    "# Convert all Earth Engine JavaScripts in a folder recursively to Python scripts.\n",
    "js_to_python_dir(in_dir=path, out_dir=path, use_qgis=True)\n",
    "print(\"Python scripts saved at: {}\".format(path))\n",
    "\n"
   ]
  },
  {
   "cell_type": "code",
   "execution_count": null,
   "id": "1a486c3c",
   "metadata": {},
   "outputs": [
    {
     "data": {
      "text/html": [
       "<p>To authorize access needed by Earth Engine, open the following\n",
       "        URL in a web browser and follow the instructions:</p>\n",
       "        <p><a href=https://code.earthengine.google.com/client-auth?scopes=https%3A//www.googleapis.com/auth/earthengine%20https%3A//www.googleapis.com/auth/devstorage.full_control&request_id=GSkGPDy88uPOnoG8G4EZ_bgr6rGopOAVj5_e177UZfI&tc=dGSgtwJDPsNj17V8z-dnz4kFIgH7u_5QlaymDv4SOGY&cc=voBpZUqlwFvMHbMxeUpu2kPt8rbFj-3Vom_z7FBGS9M>https://code.earthengine.google.com/client-auth?scopes=https%3A//www.googleapis.com/auth/earthengine%20https%3A//www.googleapis.com/auth/devstorage.full_control&request_id=GSkGPDy88uPOnoG8G4EZ_bgr6rGopOAVj5_e177UZfI&tc=dGSgtwJDPsNj17V8z-dnz4kFIgH7u_5QlaymDv4SOGY&cc=voBpZUqlwFvMHbMxeUpu2kPt8rbFj-3Vom_z7FBGS9M</a></p>\n",
       "        <p>The authorization workflow will generate a code, which you should paste in the box below.</p>\n",
       "        "
      ],
      "text/plain": [
       "<IPython.core.display.HTML object>"
      ]
     },
     "metadata": {},
     "output_type": "display_data"
    }
   ],
   "source": [
    "import ee\n",
    "ee.Authenticate()\n",
    "ee.Initialize()\n",
    "print(ee.Image(\"NASA/NASADEM_HGT/001\").get(\"title\").getInfo())"
   ]
  },
  {
   "cell_type": "code",
   "execution_count": 4,
   "id": "47e42414",
   "metadata": {},
   "outputs": [
    {
     "ename": "ModuleNotFoundError",
     "evalue": "No module named 'ee_plugin'",
     "output_type": "error",
     "traceback": [
      "\u001b[0;31m---------------------------------------------------------------------------\u001b[0m",
      "\u001b[0;31mModuleNotFoundError\u001b[0m                       Traceback (most recent call last)",
      "Input \u001b[0;32mIn [4]\u001b[0m, in \u001b[0;36m<cell line: 3>\u001b[0;34m()\u001b[0m\n\u001b[1;32m      1\u001b[0m \u001b[38;5;28;01mimport\u001b[39;00m \u001b[38;5;21;01mgeemap\u001b[39;00m \u001b[38;5;28;01mas\u001b[39;00m \u001b[38;5;21;01mee\u001b[39;00m\n\u001b[1;32m      2\u001b[0m \u001b[38;5;28;01mimport\u001b[39;00m \u001b[38;5;21;01mee\u001b[39;00m \n\u001b[0;32m----> 3\u001b[0m \u001b[38;5;28;01mfrom\u001b[39;00m \u001b[38;5;21;01mee_plugin\u001b[39;00m \u001b[38;5;28;01mimport\u001b[39;00m Map\n\u001b[1;32m      5\u001b[0m \u001b[38;5;66;03m#load data\u001b[39;00m\n\u001b[1;32m      7\u001b[0m glo30 \u001b[38;5;241m=\u001b[39m ee\u001b[38;5;241m.\u001b[39mImageCollection(\u001b[38;5;124m\"\u001b[39m\u001b[38;5;124mprojects/sat-io/open-datasets/GLO-30\u001b[39m\u001b[38;5;124m\"\u001b[39m)\n",
      "\u001b[0;31mModuleNotFoundError\u001b[0m: No module named 'ee_plugin'"
     ]
    }
   ],
   "source": [
    "import ee \n",
    "from ee_plugin import Map\n",
    "\n",
    "#load data\n",
    "\n",
    "glo30 = ee.ImageCollection(\"projects/sat-io/open-datasets/GLO-30\")\n",
    "glo_elev = glo30.mosaic().setDefaultProjection('EPSG:3857',None,30)\n",
    "\n",
    "#proposal\n",
    "#take min elevation in bldg footprint-- FABDEM\n",
    "\n",
    "#AK buildings (Erin's OSM table)\n",
    "bldgs = ee.FeatureCollection('users/edtrochim/OSM_building_AK').filter(ee.Filter.bounds(geometry))\n",
    "Map.addLayer(bldgs, {'color': 'black'}, 'Alaskan building footprints')\n",
    "\n",
    "#FABDEM (Forest And Buildings removed Copernicus 30m DEM)\n",
    "fabdem = ee.ImageCollection(\"projects/sat-io/open-datasets/FABDEM\")\n",
    "fabdem_elev = fabdem.mosaic().setDefaultProjection('EPSG:3857',None,30)\n",
    "#elev = fabdem.mosaic().setDefaultProjection(glo30.first().projection())\n",
    "\n",
    "min_elev = fabdem_elev.reduceRegions({'collection': bldgs,\n",
    "                  'reducer': ee.Reducer.min(),\n",
    "                  'scale':10\n",
    "})\n",
    "\n",
    "min_elev_glo = glo_elev.reduceRegions({'collection': bldgs,\n",
    "                  'reducer': ee.Reducer.min(),\n",
    "                  'scale':10\n",
    "})\n",
    "\n",
    "max_elev = fabdem_elev.reduceRegions({'collection': bldgs,\n",
    "                  'reducer': ee.Reducer.max(),\n",
    "                  'scale':10\n",
    "})\n",
    "max_elev_glo = glo_elev.reduceRegions({'collection': bldgs,\n",
    "                  'reducer': ee.Reducer.max(),\n",
    "                  'scale':10\n",
    "})\n",
    "\n",
    "print(min_elev.first(), min_elev_glo.first())\n",
    "\n",
    "print(max_elev.first(), max_elev_glo.first())\n",
    "\n",
    "elevationVis = {\n",
    "  'min': -50.0,\n",
    "  'max': 1000.0,\n",
    "  'palette': ['#ffffcc','#a1dab4','#41b6c4','#2c7fb8','#253494'], #thx, colorbrewer\n",
    "}\n",
    "\n",
    "Map.addLayer(fabdem_elev, elevationVis, 'FABDEM Elevation')\n",
    "\n",
    "\n",
    "#compare to max elevation in bldg height -- Copernicus Digital Elevation Model (GLO-30 DEM)¶\n"
   ]
  },
  {
   "cell_type": "code",
   "execution_count": null,
   "id": "550aa9d1",
   "metadata": {},
   "outputs": [],
   "source": []
  }
 ],
 "metadata": {
  "kernelspec": {
   "display_name": "Python 3 (ipykernel)",
   "language": "python",
   "name": "python3"
  },
  "language_info": {
   "codemirror_mode": {
    "name": "ipython",
    "version": 3
   },
   "file_extension": ".py",
   "mimetype": "text/x-python",
   "name": "python",
   "nbconvert_exporter": "python",
   "pygments_lexer": "ipython3",
   "version": "3.9.13"
  }
 },
 "nbformat": 4,
 "nbformat_minor": 5
}
