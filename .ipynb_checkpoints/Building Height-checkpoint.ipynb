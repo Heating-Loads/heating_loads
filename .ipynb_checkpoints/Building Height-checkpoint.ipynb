{
 "cells": [
  {
   "cell_type": "code",
   "execution_count": 4,
   "id": "1a486c3c",
   "metadata": {},
   "outputs": [
    {
     "data": {
      "text/html": [
       "<p>To authorize access needed by Earth Engine, open the following\n",
       "        URL in a web browser and follow the instructions:</p>\n",
       "        <p><a href=https://code.earthengine.google.com/client-auth?scopes=https%3A//www.googleapis.com/auth/earthengine%20https%3A//www.googleapis.com/auth/devstorage.full_control&request_id=P2-dnpPA0R1PuMmSPzv-aEMqswkU7H_benFHnbhkoEM&tc=Ev2PszYM5s_UyLIgqEcDAUCAIq6EXI-7ayykN9kcyz0&cc=keiye0GCG_1NGXuiKTK0oiJznf2hR-kdH6cGcGjubxA>https://code.earthengine.google.com/client-auth?scopes=https%3A//www.googleapis.com/auth/earthengine%20https%3A//www.googleapis.com/auth/devstorage.full_control&request_id=P2-dnpPA0R1PuMmSPzv-aEMqswkU7H_benFHnbhkoEM&tc=Ev2PszYM5s_UyLIgqEcDAUCAIq6EXI-7ayykN9kcyz0&cc=keiye0GCG_1NGXuiKTK0oiJznf2hR-kdH6cGcGjubxA</a></p>\n",
       "        <p>The authorization workflow will generate a code, which you should paste in the box below.</p>\n",
       "        "
      ],
      "text/plain": [
       "<IPython.core.display.HTML object>"
      ]
     },
     "metadata": {},
     "output_type": "display_data"
    },
    {
     "name": "stdout",
     "output_type": "stream",
     "text": [
      "Enter verification code: 4/1AdQt8qi7iwWWVLrbwdTr57H-jZG_-zK847IYx927rKOi8EOZw_5jNiOOlPk\n",
      "\n",
      "Successfully saved authorization token.\n",
      "NASADEM: NASA NASADEM Digital Elevation 30m\n"
     ]
    }
   ],
   "source": [
    "# check if google earth engine is working\n",
    "import ee\n",
    "ee.Authenticate()\n",
    "ee.Initialize()\n",
    "print(ee.Image(\"NASA/NASADEM_HGT/001\").get(\"title\").getInfo())"
   ]
  },
  {
   "cell_type": "markdown",
   "id": "c33bd8fe",
   "metadata": {},
   "source": [
    "# maddie-certificate issues"
   ]
  },
  {
   "cell_type": "code",
   "execution_count": 2,
   "id": "a824cd16",
   "metadata": {},
   "outputs": [
    {
     "data": {
      "text/plain": [
       "'/Users/Maddie/Library/Caches/pypoetry/virtualenvs/heating-loads-first-test-h1o2CJ0Z-py3.9/lib/python3.9/site-packages/certifi/cacert.pem'"
      ]
     },
     "execution_count": 2,
     "metadata": {},
     "output_type": "execute_result"
    }
   ],
   "source": [
    "import certifi\n",
    "certifi.where()"
   ]
  },
  {
   "cell_type": "code",
   "execution_count": 3,
   "id": "009336e9",
   "metadata": {},
   "outputs": [
    {
     "data": {
      "text/plain": [
       "'2022.06.15'"
      ]
     },
     "execution_count": 3,
     "metadata": {},
     "output_type": "execute_result"
    }
   ],
   "source": [
    "certifi.__version__"
   ]
  },
  {
   "cell_type": "markdown",
   "id": "196bf855",
   "metadata": {},
   "source": [
    "# converting js to py"
   ]
  },
  {
   "cell_type": "code",
   "execution_count": 2,
   "id": "a018938f",
   "metadata": {},
   "outputs": [
    {
     "name": "stdout",
     "output_type": "stream",
     "text": [
      "Converting Earth Engine JavaScripts to Python scripts...\n",
      "\n",
      "Processing 1/1: /Users/ssoltani/Desktop/DSSG/dem_validation.js\n",
      "Python scripts saved at: /Users/ssoltani/Desktop/DSSG\n"
     ]
    }
   ],
   "source": [
    "path = \"/Users/ssoltani/Desktop/DSSG\"\n",
    "import geemap as ee\n",
    "\n",
    "import os\n",
    "from geemap.conversion import *\n",
    "\n",
    "\n",
    "# Convert all Earth Engine JavaScripts in a folder recursively to Python scripts.\n",
    "js_to_python_dir(in_dir=path, out_dir=path, use_qgis=True)\n",
    "print(\"Python scripts saved at: {}\".format(path))\n",
    "\n"
   ]
  }
 ],
 "metadata": {
  "kernelspec": {
   "display_name": "Python 3 (ipykernel)",
   "language": "python",
   "name": "python3"
  },
  "language_info": {
   "codemirror_mode": {
    "name": "ipython",
    "version": 3
   },
   "file_extension": ".py",
   "mimetype": "text/x-python",
   "name": "python",
   "nbconvert_exporter": "python",
   "pygments_lexer": "ipython3",
   "version": "3.9.7"
  }
 },
 "nbformat": 4,
 "nbformat_minor": 5
}
